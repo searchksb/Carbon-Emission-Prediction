{
 "cells": [
  {
   "cell_type": "code",
   "execution_count": 1,
   "metadata": {
    "collapsed": true,
    "pycharm": {
     "name": "#%%\n"
    }
   },
   "outputs": [],
   "source": [
    "import warnings\n",
    "import joblib\n",
    "from compare import *\n",
    "import pandas as pd\n",
    "import numpy as np\n",
    "from pandas import read_csv\n",
    "from sklearn.preprocessing import StandardScaler\n",
    "import seaborn as sns\n",
    "from matplotlib import pyplot\n",
    "import matplotlib.pyplot as plt\n",
    "from sklearn.model_selection import train_test_split, GridSearchCV\n",
    "from sklearn.preprocessing import MinMaxScaler, RobustScaler\n",
    "from sklearn.linear_model import LinearRegression\n",
    "from sklearn.feature_selection import RFE\n",
    "from xgboost import XGBRegressor\n",
    "from sklearn.svm import LinearSVR,SVR\n",
    "from sklearn.ensemble import RandomForestRegressor, GradientBoostingRegressor, AdaBoostRegressor\n",
    "from sklearn.neighbors import KNeighborsRegressor\n",
    "from sklearn.ensemble import StackingRegressor,VotingRegressor, IsolationForest\n",
    "from sklearn.feature_selection import f_regression\n",
    "from sklearn.metrics import mean_squared_error,mean_absolute_error, mean_absolute_percentage_error, r2_score\n",
    "sns.set_style('whitegrid')\n",
    "%matplotlib inline\n",
    "warnings.filterwarnings('ignore')"
   ]
  },
  {
   "cell_type": "code",
   "execution_count": 2,
   "outputs": [],
   "source": [
    "#load your data into the dataframe\n",
    "my_data = read_csv('COM726.csv')"
   ],
   "metadata": {
    "collapsed": false,
    "pycharm": {
     "name": "#%%\n"
    }
   }
  },
  {
   "cell_type": "code",
   "execution_count": 3,
   "outputs": [
    {
     "data": {
      "text/plain": "  Region_Country Second_Tier_Authority Local_Authority       Code    Year  \\\n0     North East            Darlington      Darlington  E06000005  2005.0   \n1     North East            Darlington      Darlington  E06000005  2006.0   \n2     North East            Darlington      Darlington  E06000005  2007.0   \n3     North East            Darlington      Darlington  E06000005  2008.0   \n4     North East            Darlington      Darlington  E06000005  2009.0   \n\n   Industry_Total  Commercial_Total  Public_Sector_Total  Domestic_Total  \\\n0           188.7             104.9                 47.5           262.5   \n1           175.9             108.2                 46.7           260.3   \n2           170.7             102.8                 44.7           251.2   \n3           177.3             101.8                 44.3           252.2   \n4           149.2              89.3                 38.7           228.8   \n\n   Transport_Total  LULUCF_Net_Emissions  Grand_Total  Population  \\\n0            214.0                  -0.9        816.7       100.3   \n1            210.1                  -1.4        799.8       101.5   \n2            208.4                  -2.0        775.7       102.6   \n3            193.1                  -2.3        766.4       103.7   \n4            190.2                  -2.3        693.9       104.4   \n\n   Per_Capita_Emissions(t)  Area(km2)  Emissions_per_km2(kt)  \n0                      8.1      197.5                    4.1  \n1                      7.9      197.5                    4.1  \n2                      7.6      197.5                    3.9  \n3                      7.4      197.5                    3.9  \n4                      6.6      197.5                    3.5  ",
      "text/html": "<div>\n<style scoped>\n    .dataframe tbody tr th:only-of-type {\n        vertical-align: middle;\n    }\n\n    .dataframe tbody tr th {\n        vertical-align: top;\n    }\n\n    .dataframe thead th {\n        text-align: right;\n    }\n</style>\n<table border=\"1\" class=\"dataframe\">\n  <thead>\n    <tr style=\"text-align: right;\">\n      <th></th>\n      <th>Region_Country</th>\n      <th>Second_Tier_Authority</th>\n      <th>Local_Authority</th>\n      <th>Code</th>\n      <th>Year</th>\n      <th>Industry_Total</th>\n      <th>Commercial_Total</th>\n      <th>Public_Sector_Total</th>\n      <th>Domestic_Total</th>\n      <th>Transport_Total</th>\n      <th>LULUCF_Net_Emissions</th>\n      <th>Grand_Total</th>\n      <th>Population</th>\n      <th>Per_Capita_Emissions(t)</th>\n      <th>Area(km2)</th>\n      <th>Emissions_per_km2(kt)</th>\n    </tr>\n  </thead>\n  <tbody>\n    <tr>\n      <th>0</th>\n      <td>North East</td>\n      <td>Darlington</td>\n      <td>Darlington</td>\n      <td>E06000005</td>\n      <td>2005.0</td>\n      <td>188.7</td>\n      <td>104.9</td>\n      <td>47.5</td>\n      <td>262.5</td>\n      <td>214.0</td>\n      <td>-0.9</td>\n      <td>816.7</td>\n      <td>100.3</td>\n      <td>8.1</td>\n      <td>197.5</td>\n      <td>4.1</td>\n    </tr>\n    <tr>\n      <th>1</th>\n      <td>North East</td>\n      <td>Darlington</td>\n      <td>Darlington</td>\n      <td>E06000005</td>\n      <td>2006.0</td>\n      <td>175.9</td>\n      <td>108.2</td>\n      <td>46.7</td>\n      <td>260.3</td>\n      <td>210.1</td>\n      <td>-1.4</td>\n      <td>799.8</td>\n      <td>101.5</td>\n      <td>7.9</td>\n      <td>197.5</td>\n      <td>4.1</td>\n    </tr>\n    <tr>\n      <th>2</th>\n      <td>North East</td>\n      <td>Darlington</td>\n      <td>Darlington</td>\n      <td>E06000005</td>\n      <td>2007.0</td>\n      <td>170.7</td>\n      <td>102.8</td>\n      <td>44.7</td>\n      <td>251.2</td>\n      <td>208.4</td>\n      <td>-2.0</td>\n      <td>775.7</td>\n      <td>102.6</td>\n      <td>7.6</td>\n      <td>197.5</td>\n      <td>3.9</td>\n    </tr>\n    <tr>\n      <th>3</th>\n      <td>North East</td>\n      <td>Darlington</td>\n      <td>Darlington</td>\n      <td>E06000005</td>\n      <td>2008.0</td>\n      <td>177.3</td>\n      <td>101.8</td>\n      <td>44.3</td>\n      <td>252.2</td>\n      <td>193.1</td>\n      <td>-2.3</td>\n      <td>766.4</td>\n      <td>103.7</td>\n      <td>7.4</td>\n      <td>197.5</td>\n      <td>3.9</td>\n    </tr>\n    <tr>\n      <th>4</th>\n      <td>North East</td>\n      <td>Darlington</td>\n      <td>Darlington</td>\n      <td>E06000005</td>\n      <td>2009.0</td>\n      <td>149.2</td>\n      <td>89.3</td>\n      <td>38.7</td>\n      <td>228.8</td>\n      <td>190.2</td>\n      <td>-2.3</td>\n      <td>693.9</td>\n      <td>104.4</td>\n      <td>6.6</td>\n      <td>197.5</td>\n      <td>3.5</td>\n    </tr>\n  </tbody>\n</table>\n</div>"
     },
     "execution_count": 3,
     "metadata": {},
     "output_type": "execute_result"
    }
   ],
   "source": [
    "# Drop column with Nan value\n",
    "my_data = my_data.drop(['Unnamed: 16'], axis=1)\n",
    "my_data.head()"
   ],
   "metadata": {
    "collapsed": false,
    "pycharm": {
     "name": "#%%\n"
    }
   }
  },
  {
   "cell_type": "code",
   "execution_count": 4,
   "outputs": [],
   "source": [
    "# Drop rows which have all NaN in its row\n",
    "my_data = my_data.dropna(how='all')"
   ],
   "metadata": {
    "collapsed": false,
    "pycharm": {
     "name": "#%%\n"
    }
   }
  },
  {
   "cell_type": "code",
   "execution_count": 5,
   "outputs": [
    {
     "data": {
      "text/plain": "     Year  Industry_Total  Commercial_Total  Public_Sector_Total  \\\n0  2005.0           188.7             104.9                 47.5   \n1  2006.0           175.9             108.2                 46.7   \n2  2007.0           170.7             102.8                 44.7   \n3  2008.0           177.3             101.8                 44.3   \n4  2009.0           149.2              89.3                 38.7   \n\n   Domestic_Total  Transport_Total  LULUCF_Net_Emissions  Population  \\\n0           262.5            214.0                  -0.9       100.3   \n1           260.3            210.1                  -1.4       101.5   \n2           251.2            208.4                  -2.0       102.6   \n3           252.2            193.1                  -2.3       103.7   \n4           228.8            190.2                  -2.3       104.4   \n\n   Per_Capita_Emissions(t)  Area(km2)  Emissions_per_km2(kt)  \n0                      8.1      197.5                    4.1  \n1                      7.9      197.5                    4.1  \n2                      7.6      197.5                    3.9  \n3                      7.4      197.5                    3.9  \n4                      6.6      197.5                    3.5  ",
      "text/html": "<div>\n<style scoped>\n    .dataframe tbody tr th:only-of-type {\n        vertical-align: middle;\n    }\n\n    .dataframe tbody tr th {\n        vertical-align: top;\n    }\n\n    .dataframe thead th {\n        text-align: right;\n    }\n</style>\n<table border=\"1\" class=\"dataframe\">\n  <thead>\n    <tr style=\"text-align: right;\">\n      <th></th>\n      <th>Year</th>\n      <th>Industry_Total</th>\n      <th>Commercial_Total</th>\n      <th>Public_Sector_Total</th>\n      <th>Domestic_Total</th>\n      <th>Transport_Total</th>\n      <th>LULUCF_Net_Emissions</th>\n      <th>Population</th>\n      <th>Per_Capita_Emissions(t)</th>\n      <th>Area(km2)</th>\n      <th>Emissions_per_km2(kt)</th>\n    </tr>\n  </thead>\n  <tbody>\n    <tr>\n      <th>0</th>\n      <td>2005.0</td>\n      <td>188.7</td>\n      <td>104.9</td>\n      <td>47.5</td>\n      <td>262.5</td>\n      <td>214.0</td>\n      <td>-0.9</td>\n      <td>100.3</td>\n      <td>8.1</td>\n      <td>197.5</td>\n      <td>4.1</td>\n    </tr>\n    <tr>\n      <th>1</th>\n      <td>2006.0</td>\n      <td>175.9</td>\n      <td>108.2</td>\n      <td>46.7</td>\n      <td>260.3</td>\n      <td>210.1</td>\n      <td>-1.4</td>\n      <td>101.5</td>\n      <td>7.9</td>\n      <td>197.5</td>\n      <td>4.1</td>\n    </tr>\n    <tr>\n      <th>2</th>\n      <td>2007.0</td>\n      <td>170.7</td>\n      <td>102.8</td>\n      <td>44.7</td>\n      <td>251.2</td>\n      <td>208.4</td>\n      <td>-2.0</td>\n      <td>102.6</td>\n      <td>7.6</td>\n      <td>197.5</td>\n      <td>3.9</td>\n    </tr>\n    <tr>\n      <th>3</th>\n      <td>2008.0</td>\n      <td>177.3</td>\n      <td>101.8</td>\n      <td>44.3</td>\n      <td>252.2</td>\n      <td>193.1</td>\n      <td>-2.3</td>\n      <td>103.7</td>\n      <td>7.4</td>\n      <td>197.5</td>\n      <td>3.9</td>\n    </tr>\n    <tr>\n      <th>4</th>\n      <td>2009.0</td>\n      <td>149.2</td>\n      <td>89.3</td>\n      <td>38.7</td>\n      <td>228.8</td>\n      <td>190.2</td>\n      <td>-2.3</td>\n      <td>104.4</td>\n      <td>6.6</td>\n      <td>197.5</td>\n      <td>3.5</td>\n    </tr>\n  </tbody>\n</table>\n</div>"
     },
     "execution_count": 5,
     "metadata": {},
     "output_type": "execute_result"
    }
   ],
   "source": [
    "# Drop columns\n",
    "my_data = my_data.drop(['Region_Country', 'Second_Tier_Authority', 'Local_Authority', 'Code', 'Grand_Total'], axis=1)\n",
    "my_data.head()"
   ],
   "metadata": {
    "collapsed": false,
    "pycharm": {
     "name": "#%%\n"
    }
   }
  },
  {
   "cell_type": "code",
   "execution_count": 6,
   "outputs": [
    {
     "name": "stdout",
     "output_type": "stream",
     "text": [
      "Year                         int64\n",
      "Industry_Total             float64\n",
      "Commercial_Total           float64\n",
      "Public_Sector_Total        float64\n",
      "Domestic_Total             float64\n",
      "Transport_Total            float64\n",
      "LULUCF_Net_Emissions       float64\n",
      "Population                 float64\n",
      "Per_Capita_Emissions(t)    float64\n",
      "Area(km2)                  float64\n",
      "Emissions_per_km2(kt)      float64\n",
      "dtype: object\n"
     ]
    }
   ],
   "source": [
    "my_data['Year'] = my_data['Year'].apply(np.int64)\n",
    "\n",
    "print(my_data.dtypes)"
   ],
   "metadata": {
    "collapsed": false,
    "pycharm": {
     "name": "#%%\n"
    }
   }
  },
  {
   "cell_type": "code",
   "execution_count": 7,
   "outputs": [],
   "source": [
    "X = my_data.drop('Per_Capita_Emissions(t)', axis=1)  #  X= my_data.iloc[:,:-1]\n",
    "y = my_data['Per_Capita_Emissions(t)']  # y= my_data.iloc[:,-1]"
   ],
   "metadata": {
    "collapsed": false,
    "pycharm": {
     "name": "#%%\n"
    }
   }
  },
  {
   "cell_type": "code",
   "execution_count": 8,
   "outputs": [
    {
     "name": "stdout",
     "output_type": "stream",
     "text": [
      "\n",
      " The total of training dataset (3979, 10)\n",
      "\n",
      " The total of test dataset (1706, 10)\n"
     ]
    }
   ],
   "source": [
    "#split the data into train and test - split using 70:30\n",
    "X_train, X_test, y_train, y_test = train_test_split(X, y, test_size=0.3, random_state=0)\n",
    "#check the number of train and test data\n",
    "print('\\n The total of training dataset', X_train.shape)\n",
    "print('\\n The total of test dataset', X_test.shape)"
   ],
   "metadata": {
    "collapsed": false,
    "pycharm": {
     "name": "#%%\n"
    }
   }
  },
  {
   "cell_type": "code",
   "execution_count": 10,
   "outputs": [],
   "source": [
    "iforest = IsolationForest(random_state=0)\n",
    "y_pred = iforest.fit_predict(X_train)"
   ],
   "metadata": {
    "collapsed": false,
    "pycharm": {
     "name": "#%%\n"
    }
   }
  },
  {
   "cell_type": "code",
   "execution_count": 13,
   "outputs": [],
   "source": [
    "X_train_iforest, y_train_iforest = X_train.iloc[(y_pred != -1), :], y_train.iloc[(y_pred != -1)]"
   ],
   "metadata": {
    "collapsed": false,
    "pycharm": {
     "name": "#%%\n"
    }
   }
  },
  {
   "cell_type": "code",
   "execution_count": 14,
   "outputs": [
    {
     "name": "stdout",
     "output_type": "stream",
     "text": [
      "(3659, 10) (3659,)\n"
     ]
    }
   ],
   "source": [
    "print(X_train_iforest.shape, y_train_iforest.shape)"
   ],
   "metadata": {
    "collapsed": false,
    "pycharm": {
     "name": "#%%\n"
    }
   }
  },
  {
   "cell_type": "code",
   "execution_count": 16,
   "outputs": [
    {
     "name": "stdout",
     "output_type": "stream",
     "text": [
      "Mean absolute error: 0.35\n",
      "Mean squared error: 2.51\n",
      "Root mean squared error: 1.58\n",
      "Mean absolute percentage error:, 0.04\n",
      "r2 score:0.97\n",
      "R2 Score Train data:1.00\n"
     ]
    }
   ],
   "source": [
    "rf_model = RandomForestRegressor(random_state=0)\n",
    "#fit the model to the training set\n",
    "model1 = rf_model.fit(X_train, y_train)\n",
    "#predict the model\n",
    "y_pred = model1.predict(X_test)\n",
    "#predict model on train data\n",
    "y_pred_train = model1.predict(X_train)\n",
    "#evaluate\n",
    "mae = mean_absolute_error(y_test, y_pred)\n",
    "mse = mean_squared_error(y_test, y_pred)\n",
    "rmse = np.sqrt(mse)\n",
    "r2 = r2_score(y_test, y_pred)\n",
    "mape = mean_absolute_percentage_error(y_test, y_pred)\n",
    "#the r2 for the train dataset\n",
    "r2_train = r2_score(y_train, y_pred_train)\n",
    "\n",
    "#printing the model evaluation values\n",
    "print('Mean absolute error: {:.2f}'.format(mae))\n",
    "print('Mean squared error: {:.2f}'.format(mse))\n",
    "print('Root mean squared error: {:.2f}'.format(rmse))\n",
    "print('Mean absolute percentage error:, {:.2f}'.format(mape))\n",
    "print('r2 score:{:.2f}'.format(r2))\n",
    "print('R2 Score Train data:{:.2f}'.format(r2_train))"
   ],
   "metadata": {
    "collapsed": false,
    "pycharm": {
     "name": "#%%\n"
    }
   }
  },
  {
   "cell_type": "code",
   "execution_count": null,
   "outputs": [],
   "source": [],
   "metadata": {
    "collapsed": false,
    "pycharm": {
     "name": "#%%\n"
    }
   }
  },
  {
   "cell_type": "code",
   "execution_count": null,
   "outputs": [],
   "source": [],
   "metadata": {
    "collapsed": false,
    "pycharm": {
     "name": "#%%\n"
    }
   }
  },
  {
   "cell_type": "code",
   "execution_count": null,
   "outputs": [],
   "source": [],
   "metadata": {
    "collapsed": false,
    "pycharm": {
     "name": "#%%\n"
    }
   }
  },
  {
   "cell_type": "code",
   "execution_count": null,
   "outputs": [],
   "source": [],
   "metadata": {
    "collapsed": false,
    "pycharm": {
     "name": "#%%\n"
    }
   }
  },
  {
   "cell_type": "code",
   "execution_count": null,
   "outputs": [],
   "source": [],
   "metadata": {
    "collapsed": false,
    "pycharm": {
     "name": "#%%\n"
    }
   }
  },
  {
   "cell_type": "code",
   "execution_count": null,
   "outputs": [],
   "source": [],
   "metadata": {
    "collapsed": false,
    "pycharm": {
     "name": "#%%\n"
    }
   }
  },
  {
   "cell_type": "code",
   "execution_count": null,
   "outputs": [],
   "source": [],
   "metadata": {
    "collapsed": false,
    "pycharm": {
     "name": "#%%\n"
    }
   }
  },
  {
   "cell_type": "code",
   "execution_count": null,
   "outputs": [],
   "source": [],
   "metadata": {
    "collapsed": false,
    "pycharm": {
     "name": "#%%\n"
    }
   }
  }
 ],
 "metadata": {
  "kernelspec": {
   "display_name": "Python 3",
   "language": "python",
   "name": "python3"
  },
  "language_info": {
   "codemirror_mode": {
    "name": "ipython",
    "version": 2
   },
   "file_extension": ".py",
   "mimetype": "text/x-python",
   "name": "python",
   "nbconvert_exporter": "python",
   "pygments_lexer": "ipython2",
   "version": "2.7.6"
  }
 },
 "nbformat": 4,
 "nbformat_minor": 0
}