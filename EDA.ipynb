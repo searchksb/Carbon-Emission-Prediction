{
 "cells": [
  {
   "cell_type": "code",
   "execution_count": 120,
   "metadata": {
    "collapsed": true,
    "pycharm": {
     "name": "#%%\n"
    }
   },
   "outputs": [],
   "source": [
    "import warnings\n",
    "import joblib\n",
    "import pandas as pd\n",
    "import numpy as np\n",
    "from pandas import read_csv\n",
    "from sklearn.preprocessing import OrdinalEncoder\n",
    "import seaborn as sns\n",
    "from matplotlib import pyplot\n",
    "import matplotlib.pyplot as plt\n",
    "import plotly.express as px\n",
    "from sklearn.model_selection import train_test_split\n",
    "from sklearn.ensemble import RandomForestRegressor\n",
    "from sklearn.feature_selection import f_regression\n",
    "from sklearn.metrics import mean_squared_error,mean_absolute_error, mean_absolute_percentage_error, r2_score\n",
    "#%matplotlib inline\n",
    "warnings.filterwarnings('ignore')"
   ]
  },
  {
   "cell_type": "code",
   "execution_count": 121,
   "outputs": [],
   "source": [
    "#load your data into the dataframe\n",
    "my_data = read_csv('2005-19_Local_Authority_CO2_emissions(1).csv')"
   ],
   "metadata": {
    "collapsed": false,
    "pycharm": {
     "name": "#%%\n"
    }
   }
  },
  {
   "cell_type": "code",
   "execution_count": 116,
   "outputs": [
    {
     "data": {
      "text/plain": "   Country Country Code      Region Region Code Second Tier Authority  \\\n0  England    E92000001  North East   E12000001            Hartlepool   \n1  England    E92000001  North East   E12000001            Hartlepool   \n2  England    E92000001  North East   E12000001            Hartlepool   \n3  England    E92000001  North East   E12000001            Hartlepool   \n4  England    E92000001  North East   E12000001            Hartlepool   \n\n  Local Authority Local Authority Code  Calendar Year LA CO2 Sector  \\\n0      Hartlepool            E06000001           2005    Commercial   \n1      Hartlepool            E06000001           2005    Commercial   \n2      Hartlepool            E06000001           2005    Commercial   \n3      Hartlepool            E06000001           2005      Domestic   \n4      Hartlepool            E06000001           2005      Domestic   \n\n          LA CO2 Sub-sector  Territorial emissions (kt CO2)  \\\n0    Commercial Electricity                       77.193230   \n1            Commercial Gas                       16.689241   \n2  Commercial 'Other Fuels'                        0.198111   \n3      Domestic Electricity                       80.639845   \n4              Domestic Gas                      131.383713   \n\n   Emissions within the scope of influence of LAs (kt CO2)  \\\n0                                          77.193230         \n1                                          16.689241         \n2                                           0.198111         \n3                                          80.639845         \n4                                         131.383713         \n\n   Mid-year Population (thousands)  Area (km2)  \n0                           90.457     98.3466  \n1                           90.457     98.3466  \n2                           90.457     98.3466  \n3                           90.457     98.3466  \n4                           90.457     98.3466  ",
      "text/html": "<div>\n<style scoped>\n    .dataframe tbody tr th:only-of-type {\n        vertical-align: middle;\n    }\n\n    .dataframe tbody tr th {\n        vertical-align: top;\n    }\n\n    .dataframe thead th {\n        text-align: right;\n    }\n</style>\n<table border=\"1\" class=\"dataframe\">\n  <thead>\n    <tr style=\"text-align: right;\">\n      <th></th>\n      <th>Country</th>\n      <th>Country Code</th>\n      <th>Region</th>\n      <th>Region Code</th>\n      <th>Second Tier Authority</th>\n      <th>Local Authority</th>\n      <th>Local Authority Code</th>\n      <th>Calendar Year</th>\n      <th>LA CO2 Sector</th>\n      <th>LA CO2 Sub-sector</th>\n      <th>Territorial emissions (kt CO2)</th>\n      <th>Emissions within the scope of influence of LAs (kt CO2)</th>\n      <th>Mid-year Population (thousands)</th>\n      <th>Area (km2)</th>\n    </tr>\n  </thead>\n  <tbody>\n    <tr>\n      <th>0</th>\n      <td>England</td>\n      <td>E92000001</td>\n      <td>North East</td>\n      <td>E12000001</td>\n      <td>Hartlepool</td>\n      <td>Hartlepool</td>\n      <td>E06000001</td>\n      <td>2005</td>\n      <td>Commercial</td>\n      <td>Commercial Electricity</td>\n      <td>77.193230</td>\n      <td>77.193230</td>\n      <td>90.457</td>\n      <td>98.3466</td>\n    </tr>\n    <tr>\n      <th>1</th>\n      <td>England</td>\n      <td>E92000001</td>\n      <td>North East</td>\n      <td>E12000001</td>\n      <td>Hartlepool</td>\n      <td>Hartlepool</td>\n      <td>E06000001</td>\n      <td>2005</td>\n      <td>Commercial</td>\n      <td>Commercial Gas</td>\n      <td>16.689241</td>\n      <td>16.689241</td>\n      <td>90.457</td>\n      <td>98.3466</td>\n    </tr>\n    <tr>\n      <th>2</th>\n      <td>England</td>\n      <td>E92000001</td>\n      <td>North East</td>\n      <td>E12000001</td>\n      <td>Hartlepool</td>\n      <td>Hartlepool</td>\n      <td>E06000001</td>\n      <td>2005</td>\n      <td>Commercial</td>\n      <td>Commercial 'Other Fuels'</td>\n      <td>0.198111</td>\n      <td>0.198111</td>\n      <td>90.457</td>\n      <td>98.3466</td>\n    </tr>\n    <tr>\n      <th>3</th>\n      <td>England</td>\n      <td>E92000001</td>\n      <td>North East</td>\n      <td>E12000001</td>\n      <td>Hartlepool</td>\n      <td>Hartlepool</td>\n      <td>E06000001</td>\n      <td>2005</td>\n      <td>Domestic</td>\n      <td>Domestic Electricity</td>\n      <td>80.639845</td>\n      <td>80.639845</td>\n      <td>90.457</td>\n      <td>98.3466</td>\n    </tr>\n    <tr>\n      <th>4</th>\n      <td>England</td>\n      <td>E92000001</td>\n      <td>North East</td>\n      <td>E12000001</td>\n      <td>Hartlepool</td>\n      <td>Hartlepool</td>\n      <td>E06000001</td>\n      <td>2005</td>\n      <td>Domestic</td>\n      <td>Domestic Gas</td>\n      <td>131.383713</td>\n      <td>131.383713</td>\n      <td>90.457</td>\n      <td>98.3466</td>\n    </tr>\n  </tbody>\n</table>\n</div>"
     },
     "execution_count": 116,
     "metadata": {},
     "output_type": "execute_result"
    }
   ],
   "source": [
    "my_data.head()"
   ],
   "metadata": {
    "collapsed": false,
    "pycharm": {
     "name": "#%%\n"
    }
   }
  },
  {
   "cell_type": "code",
   "execution_count": 124,
   "outputs": [],
   "source": [
    "\n"
   ],
   "metadata": {
    "collapsed": false,
    "pycharm": {
     "name": "#%%\n"
    }
   }
  },
  {
   "cell_type": "code",
   "execution_count": 95,
   "outputs": [
    {
     "name": "stdout",
     "output_type": "stream",
     "text": [
      "(129388, 14)\n"
     ]
    }
   ],
   "source": [
    "print(my_data.shape)"
   ],
   "metadata": {
    "collapsed": false,
    "pycharm": {
     "name": "#%%\n"
    }
   }
  },
  {
   "cell_type": "code",
   "execution_count": 96,
   "outputs": [
    {
     "name": "stdout",
     "output_type": "stream",
     "text": [
      "<class 'pandas.core.frame.DataFrame'>\n",
      "RangeIndex: 129388 entries, 0 to 129387\n",
      "Data columns (total 14 columns):\n",
      " #   Column                                                   Non-Null Count   Dtype  \n",
      "---  ------                                                   --------------   -----  \n",
      " 0   Country                                                  129235 non-null  object \n",
      " 1   Country Code                                             129235 non-null  object \n",
      " 2   Region                                                   129235 non-null  object \n",
      " 3   Region Code                                              129235 non-null  object \n",
      " 4   Second Tier Authority                                    129235 non-null  object \n",
      " 5   Local Authority                                          129388 non-null  object \n",
      " 6   Local Authority Code                                     129265 non-null  object \n",
      " 7   Calendar Year                                            129388 non-null  int64  \n",
      " 8   LA CO2 Sector                                            129388 non-null  object \n",
      " 9   LA CO2 Sub-sector                                        129388 non-null  object \n",
      " 10  Territorial emissions (kt CO2)                           129388 non-null  float64\n",
      " 11  Emissions within the scope of influence of LAs (kt CO2)  129388 non-null  float64\n",
      " 12  Mid-year Population (thousands)                          129235 non-null  float64\n",
      " 13  Area (km2)                                               129235 non-null  float64\n",
      "dtypes: float64(4), int64(1), object(9)\n",
      "memory usage: 13.8+ MB\n"
     ]
    }
   ],
   "source": [
    "my_data.info()"
   ],
   "metadata": {
    "collapsed": false,
    "pycharm": {
     "name": "#%%\n"
    }
   }
  },
  {
   "cell_type": "code",
   "execution_count": 30,
   "outputs": [
    {
     "name": "stdout",
     "output_type": "stream",
     "text": [
      "\n",
      " These are the missing data \n",
      "        Country Country Code Region Region Code Second Tier Authority  \\\n",
      "110673     NaN          NaN    NaN         NaN                   NaN   \n",
      "110674     NaN          NaN    NaN         NaN                   NaN   \n",
      "110675     NaN          NaN    NaN         NaN                   NaN   \n",
      "110676     NaN          NaN    NaN         NaN                   NaN   \n",
      "110677     NaN          NaN    NaN         NaN                   NaN   \n",
      "...        ...          ...    ...         ...                   ...   \n",
      "129383     NaN          NaN    NaN         NaN                   NaN   \n",
      "129384     NaN          NaN    NaN         NaN                   NaN   \n",
      "129385     NaN          NaN    NaN         NaN                   NaN   \n",
      "129386     NaN          NaN    NaN         NaN                   NaN   \n",
      "129387     NaN          NaN    NaN         NaN                   NaN   \n",
      "\n",
      "                   Local Authority Local Authority Code  Calendar Year  \\\n",
      "110673  Unallocated electricity NI            N92000002           2005   \n",
      "110674  Unallocated electricity NI            N92000002           2005   \n",
      "110675  Unallocated electricity NI            N92000002           2006   \n",
      "110676  Unallocated electricity NI            N92000002           2006   \n",
      "110677  Unallocated electricity NI            N92000002           2007   \n",
      "...                            ...                  ...            ...   \n",
      "129383     Unallocated consumption                  NaN           2019   \n",
      "129384     Unallocated consumption                  NaN           2019   \n",
      "129385     Unallocated consumption                  NaN           2019   \n",
      "129386     Unallocated consumption                  NaN           2019   \n",
      "129387     Unallocated consumption                  NaN           2019   \n",
      "\n",
      "       LA CO2 Sector                              LA CO2 Sub-sector  \\\n",
      "110673      Domestic                           Domestic Electricity   \n",
      "110674      Industry                           Industry Electricity   \n",
      "110675      Domestic                           Domestic Electricity   \n",
      "110676      Industry                           Industry Electricity   \n",
      "110677      Domestic                           Domestic Electricity   \n",
      "...              ...                                            ...   \n",
      "129383      Industry                                   Industry Gas   \n",
      "129384        LULUCF              LULUCF Net Emissions: Forest land   \n",
      "129385        LULUCF                 LULUCF Net Emissions: Cropland   \n",
      "129386        LULUCF                LULUCF Net Emissions: Grassland   \n",
      "129387        LULUCF  LULUCF Net Emissions: Harvested Wood Products   \n",
      "\n",
      "        Territorial emissions (kt CO2)  \\\n",
      "110673                    3.077354e+01   \n",
      "110674                    1.880670e+00   \n",
      "110675                    3.302808e+01   \n",
      "110676                    2.149435e+00   \n",
      "110677                    3.308645e+01   \n",
      "...                                ...   \n",
      "129383                    2.574098e+02   \n",
      "129384                   -3.270000e-11   \n",
      "129385                    1.820000e-11   \n",
      "129386                    8.640000e-12   \n",
      "129387                   -2.222564e+03   \n",
      "\n",
      "        Emissions within the scope of influence of LAs (kt CO2)  \\\n",
      "110673                                          30.773539         \n",
      "110674                                           1.880670         \n",
      "110675                                          33.028076         \n",
      "110676                                           2.149435         \n",
      "110677                                          33.086445         \n",
      "...                                                   ...         \n",
      "129383                                         257.409829         \n",
      "129384                                           0.000000         \n",
      "129385                                           0.000000         \n",
      "129386                                           0.000000         \n",
      "129387                                           0.000000         \n",
      "\n",
      "        Mid-year Population (thousands)  Area (km2)  \n",
      "110673                              NaN         NaN  \n",
      "110674                              NaN         NaN  \n",
      "110675                              NaN         NaN  \n",
      "110676                              NaN         NaN  \n",
      "110677                              NaN         NaN  \n",
      "...                                 ...         ...  \n",
      "129383                              NaN         NaN  \n",
      "129384                              NaN         NaN  \n",
      "129385                              NaN         NaN  \n",
      "129386                              NaN         NaN  \n",
      "129387                              NaN         NaN  \n",
      "\n",
      "[153 rows x 14 columns]\n"
     ]
    }
   ],
   "source": [
    "#check our data for missing value\n",
    "my_data = my_data[my_data.isna().any(axis=1)]\n",
    "print('\\n These are the missing data \\n', my_data)"
   ],
   "metadata": {
    "collapsed": false,
    "pycharm": {
     "name": "#%%\n"
    }
   }
  },
  {
   "cell_type": "code",
   "execution_count": 124,
   "outputs": [],
   "source": [],
   "metadata": {
    "collapsed": false,
    "pycharm": {
     "name": "#%%\n"
    }
   }
  },
  {
   "cell_type": "code",
   "execution_count": 81,
   "outputs": [
    {
     "data": {
      "text/plain": "        Country Country Code      Region Region Code Second Tier Authority  \\\n0       England    E92000001  North East   E12000001            Hartlepool   \n1       England    E92000001  North East   E12000001            Hartlepool   \n2       England    E92000001  North East   E12000001            Hartlepool   \n3       England    E92000001  North East   E12000001            Hartlepool   \n4       England    E92000001  North East   E12000001            Hartlepool   \n...         ...          ...         ...         ...                   ...   \n129383      NaN          NaN         NaN         NaN                   NaN   \n129384      NaN          NaN         NaN         NaN                   NaN   \n129385      NaN          NaN         NaN         NaN                   NaN   \n129386      NaN          NaN         NaN         NaN                   NaN   \n129387      NaN          NaN         NaN         NaN                   NaN   \n\n                Local Authority Local Authority Code  Calendar Year  \\\n0                    Hartlepool            E06000001           2005   \n1                    Hartlepool            E06000001           2005   \n2                    Hartlepool            E06000001           2005   \n3                    Hartlepool            E06000001           2005   \n4                    Hartlepool            E06000001           2005   \n...                         ...                  ...            ...   \n129383  Unallocated consumption                  NaN           2019   \n129384  Unallocated consumption                  NaN           2019   \n129385  Unallocated consumption                  NaN           2019   \n129386  Unallocated consumption                  NaN           2019   \n129387  Unallocated consumption                  NaN           2019   \n\n       LA CO2 Sector                              LA CO2 Sub-sector  \\\n0         Commercial                         Commercial Electricity   \n1         Commercial                                 Commercial Gas   \n2         Commercial                       Commercial 'Other Fuels'   \n3           Domestic                           Domestic Electricity   \n4           Domestic                                   Domestic Gas   \n...              ...                                            ...   \n129383      Industry                                   Industry Gas   \n129384        LULUCF              LULUCF Net Emissions: Forest land   \n129385        LULUCF                 LULUCF Net Emissions: Cropland   \n129386        LULUCF                LULUCF Net Emissions: Grassland   \n129387        LULUCF  LULUCF Net Emissions: Harvested Wood Products   \n\n        CO2_emission  Emissions within the scope of influence of LAs (kt CO2)  \\\n0       7.719323e+01                                          77.193230         \n1       1.668924e+01                                          16.689241         \n2       1.981106e-01                                           0.198111         \n3       8.063985e+01                                          80.639845         \n4       1.313837e+02                                         131.383713         \n...              ...                                                ...         \n129383  2.574098e+02                                         257.409829         \n129384 -3.270000e-11                                           0.000000         \n129385  1.820000e-11                                           0.000000         \n129386  8.640000e-12                                           0.000000         \n129387 -2.222564e+03                                           0.000000         \n\n        Mid-year Population (thousands)  Area (km2)  \n0                                90.457     98.3466  \n1                                90.457     98.3466  \n2                                90.457     98.3466  \n3                                90.457     98.3466  \n4                                90.457     98.3466  \n...                                 ...         ...  \n129383                              NaN         NaN  \n129384                              NaN         NaN  \n129385                              NaN         NaN  \n129386                              NaN         NaN  \n129387                              NaN         NaN  \n\n[129388 rows x 14 columns]",
      "text/html": "<div>\n<style scoped>\n    .dataframe tbody tr th:only-of-type {\n        vertical-align: middle;\n    }\n\n    .dataframe tbody tr th {\n        vertical-align: top;\n    }\n\n    .dataframe thead th {\n        text-align: right;\n    }\n</style>\n<table border=\"1\" class=\"dataframe\">\n  <thead>\n    <tr style=\"text-align: right;\">\n      <th></th>\n      <th>Country</th>\n      <th>Country Code</th>\n      <th>Region</th>\n      <th>Region Code</th>\n      <th>Second Tier Authority</th>\n      <th>Local Authority</th>\n      <th>Local Authority Code</th>\n      <th>Calendar Year</th>\n      <th>LA CO2 Sector</th>\n      <th>LA CO2 Sub-sector</th>\n      <th>CO2_emission</th>\n      <th>Emissions within the scope of influence of LAs (kt CO2)</th>\n      <th>Mid-year Population (thousands)</th>\n      <th>Area (km2)</th>\n    </tr>\n  </thead>\n  <tbody>\n    <tr>\n      <th>0</th>\n      <td>England</td>\n      <td>E92000001</td>\n      <td>North East</td>\n      <td>E12000001</td>\n      <td>Hartlepool</td>\n      <td>Hartlepool</td>\n      <td>E06000001</td>\n      <td>2005</td>\n      <td>Commercial</td>\n      <td>Commercial Electricity</td>\n      <td>7.719323e+01</td>\n      <td>77.193230</td>\n      <td>90.457</td>\n      <td>98.3466</td>\n    </tr>\n    <tr>\n      <th>1</th>\n      <td>England</td>\n      <td>E92000001</td>\n      <td>North East</td>\n      <td>E12000001</td>\n      <td>Hartlepool</td>\n      <td>Hartlepool</td>\n      <td>E06000001</td>\n      <td>2005</td>\n      <td>Commercial</td>\n      <td>Commercial Gas</td>\n      <td>1.668924e+01</td>\n      <td>16.689241</td>\n      <td>90.457</td>\n      <td>98.3466</td>\n    </tr>\n    <tr>\n      <th>2</th>\n      <td>England</td>\n      <td>E92000001</td>\n      <td>North East</td>\n      <td>E12000001</td>\n      <td>Hartlepool</td>\n      <td>Hartlepool</td>\n      <td>E06000001</td>\n      <td>2005</td>\n      <td>Commercial</td>\n      <td>Commercial 'Other Fuels'</td>\n      <td>1.981106e-01</td>\n      <td>0.198111</td>\n      <td>90.457</td>\n      <td>98.3466</td>\n    </tr>\n    <tr>\n      <th>3</th>\n      <td>England</td>\n      <td>E92000001</td>\n      <td>North East</td>\n      <td>E12000001</td>\n      <td>Hartlepool</td>\n      <td>Hartlepool</td>\n      <td>E06000001</td>\n      <td>2005</td>\n      <td>Domestic</td>\n      <td>Domestic Electricity</td>\n      <td>8.063985e+01</td>\n      <td>80.639845</td>\n      <td>90.457</td>\n      <td>98.3466</td>\n    </tr>\n    <tr>\n      <th>4</th>\n      <td>England</td>\n      <td>E92000001</td>\n      <td>North East</td>\n      <td>E12000001</td>\n      <td>Hartlepool</td>\n      <td>Hartlepool</td>\n      <td>E06000001</td>\n      <td>2005</td>\n      <td>Domestic</td>\n      <td>Domestic Gas</td>\n      <td>1.313837e+02</td>\n      <td>131.383713</td>\n      <td>90.457</td>\n      <td>98.3466</td>\n    </tr>\n    <tr>\n      <th>...</th>\n      <td>...</td>\n      <td>...</td>\n      <td>...</td>\n      <td>...</td>\n      <td>...</td>\n      <td>...</td>\n      <td>...</td>\n      <td>...</td>\n      <td>...</td>\n      <td>...</td>\n      <td>...</td>\n      <td>...</td>\n      <td>...</td>\n      <td>...</td>\n    </tr>\n    <tr>\n      <th>129383</th>\n      <td>NaN</td>\n      <td>NaN</td>\n      <td>NaN</td>\n      <td>NaN</td>\n      <td>NaN</td>\n      <td>Unallocated consumption</td>\n      <td>NaN</td>\n      <td>2019</td>\n      <td>Industry</td>\n      <td>Industry Gas</td>\n      <td>2.574098e+02</td>\n      <td>257.409829</td>\n      <td>NaN</td>\n      <td>NaN</td>\n    </tr>\n    <tr>\n      <th>129384</th>\n      <td>NaN</td>\n      <td>NaN</td>\n      <td>NaN</td>\n      <td>NaN</td>\n      <td>NaN</td>\n      <td>Unallocated consumption</td>\n      <td>NaN</td>\n      <td>2019</td>\n      <td>LULUCF</td>\n      <td>LULUCF Net Emissions: Forest land</td>\n      <td>-3.270000e-11</td>\n      <td>0.000000</td>\n      <td>NaN</td>\n      <td>NaN</td>\n    </tr>\n    <tr>\n      <th>129385</th>\n      <td>NaN</td>\n      <td>NaN</td>\n      <td>NaN</td>\n      <td>NaN</td>\n      <td>NaN</td>\n      <td>Unallocated consumption</td>\n      <td>NaN</td>\n      <td>2019</td>\n      <td>LULUCF</td>\n      <td>LULUCF Net Emissions: Cropland</td>\n      <td>1.820000e-11</td>\n      <td>0.000000</td>\n      <td>NaN</td>\n      <td>NaN</td>\n    </tr>\n    <tr>\n      <th>129386</th>\n      <td>NaN</td>\n      <td>NaN</td>\n      <td>NaN</td>\n      <td>NaN</td>\n      <td>NaN</td>\n      <td>Unallocated consumption</td>\n      <td>NaN</td>\n      <td>2019</td>\n      <td>LULUCF</td>\n      <td>LULUCF Net Emissions: Grassland</td>\n      <td>8.640000e-12</td>\n      <td>0.000000</td>\n      <td>NaN</td>\n      <td>NaN</td>\n    </tr>\n    <tr>\n      <th>129387</th>\n      <td>NaN</td>\n      <td>NaN</td>\n      <td>NaN</td>\n      <td>NaN</td>\n      <td>NaN</td>\n      <td>Unallocated consumption</td>\n      <td>NaN</td>\n      <td>2019</td>\n      <td>LULUCF</td>\n      <td>LULUCF Net Emissions: Harvested Wood Products</td>\n      <td>-2.222564e+03</td>\n      <td>0.000000</td>\n      <td>NaN</td>\n      <td>NaN</td>\n    </tr>\n  </tbody>\n</table>\n<p>129388 rows × 14 columns</p>\n</div>"
     },
     "execution_count": 81,
     "metadata": {},
     "output_type": "execute_result"
    }
   ],
   "source": [
    "my_data.rename(columns={'Territorial emissions (kt CO2)':'CO2_emission'})"
   ],
   "metadata": {
    "collapsed": false,
    "pycharm": {
     "name": "#%%\n"
    }
   }
  },
  {
   "cell_type": "code",
   "execution_count": 122,
   "outputs": [
    {
     "data": {
      "text/plain": "        Country Country Code      Region Region Code Second Tier Authority  \\\n0       England    E92000001  North East   E12000001            Hartlepool   \n1       England    E92000001  North East   E12000001            Hartlepool   \n2       England    E92000001  North East   E12000001            Hartlepool   \n3       England    E92000001  North East   E12000001            Hartlepool   \n4       England    E92000001  North East   E12000001            Hartlepool   \n...         ...          ...         ...         ...                   ...   \n106989  England    E92000001      London   E12000007           Westminster   \n106990  England    E92000001      London   E12000007           Westminster   \n106991  England    E92000001      London   E12000007           Westminster   \n106992  England    E92000001      London   E12000007           Westminster   \n106993  England    E92000001      London   E12000007           Westminster   \n\n       Local Authority Local Authority Code  Calendar Year  LA CO2 Sector  \\\n0           Hartlepool            E06000001           2005     Commercial   \n1           Hartlepool            E06000001           2005     Commercial   \n2           Hartlepool            E06000001           2005     Commercial   \n3           Hartlepool            E06000001           2005       Domestic   \n4           Hartlepool            E06000001           2005       Domestic   \n...                ...                  ...            ...            ...   \n106989     Westminster            E09000033           2019  Public Sector   \n106990     Westminster            E09000033           2019      Transport   \n106991     Westminster            E09000033           2019      Transport   \n106992     Westminster            E09000033           2019      Transport   \n106993     Westminster            E09000033           2019      Transport   \n\n                   LA CO2 Sub-sector  Territorial emissions (kt CO2)  \\\n0             Commercial Electricity                       77.193230   \n1                     Commercial Gas                       16.689241   \n2           Commercial 'Other Fuels'                        0.198111   \n3               Domestic Electricity                       80.639845   \n4                       Domestic Gas                      131.383713   \n...                              ...                             ...   \n106989   Public Sector 'Other Fuels'                        0.857591   \n106990      Road Transport (A roads)                      180.856113   \n106991  Road Transport (Minor roads)                       89.550258   \n106992               Diesel Railways                        1.992724   \n106993               Transport Other                        1.121628   \n\n        Emissions within the scope of influence of LAs (kt CO2)  \\\n0                                               77.193230         \n1                                               16.689241         \n2                                                0.198111         \n3                                               80.639845         \n4                                              131.383713         \n...                                                   ...         \n106989                                           0.857591         \n106990                                         180.856113         \n106991                                          89.550258         \n106992                                           0.000000         \n106993                                           1.121628         \n\n        Mid-year Population (thousands)  Area (km2)  \n0                                90.457     98.3466  \n1                                90.457     98.3466  \n2                                90.457     98.3466  \n3                                90.457     98.3466  \n4                                90.457     98.3466  \n...                                 ...         ...  \n106989                          261.317     22.0301  \n106990                          261.317     22.0301  \n106991                          261.317     22.0301  \n106992                          261.317     22.0301  \n106993                          261.317     22.0301  \n\n[106994 rows x 14 columns]",
      "text/html": "<div>\n<style scoped>\n    .dataframe tbody tr th:only-of-type {\n        vertical-align: middle;\n    }\n\n    .dataframe tbody tr th {\n        vertical-align: top;\n    }\n\n    .dataframe thead th {\n        text-align: right;\n    }\n</style>\n<table border=\"1\" class=\"dataframe\">\n  <thead>\n    <tr style=\"text-align: right;\">\n      <th></th>\n      <th>Country</th>\n      <th>Country Code</th>\n      <th>Region</th>\n      <th>Region Code</th>\n      <th>Second Tier Authority</th>\n      <th>Local Authority</th>\n      <th>Local Authority Code</th>\n      <th>Calendar Year</th>\n      <th>LA CO2 Sector</th>\n      <th>LA CO2 Sub-sector</th>\n      <th>Territorial emissions (kt CO2)</th>\n      <th>Emissions within the scope of influence of LAs (kt CO2)</th>\n      <th>Mid-year Population (thousands)</th>\n      <th>Area (km2)</th>\n    </tr>\n  </thead>\n  <tbody>\n    <tr>\n      <th>0</th>\n      <td>England</td>\n      <td>E92000001</td>\n      <td>North East</td>\n      <td>E12000001</td>\n      <td>Hartlepool</td>\n      <td>Hartlepool</td>\n      <td>E06000001</td>\n      <td>2005</td>\n      <td>Commercial</td>\n      <td>Commercial Electricity</td>\n      <td>77.193230</td>\n      <td>77.193230</td>\n      <td>90.457</td>\n      <td>98.3466</td>\n    </tr>\n    <tr>\n      <th>1</th>\n      <td>England</td>\n      <td>E92000001</td>\n      <td>North East</td>\n      <td>E12000001</td>\n      <td>Hartlepool</td>\n      <td>Hartlepool</td>\n      <td>E06000001</td>\n      <td>2005</td>\n      <td>Commercial</td>\n      <td>Commercial Gas</td>\n      <td>16.689241</td>\n      <td>16.689241</td>\n      <td>90.457</td>\n      <td>98.3466</td>\n    </tr>\n    <tr>\n      <th>2</th>\n      <td>England</td>\n      <td>E92000001</td>\n      <td>North East</td>\n      <td>E12000001</td>\n      <td>Hartlepool</td>\n      <td>Hartlepool</td>\n      <td>E06000001</td>\n      <td>2005</td>\n      <td>Commercial</td>\n      <td>Commercial 'Other Fuels'</td>\n      <td>0.198111</td>\n      <td>0.198111</td>\n      <td>90.457</td>\n      <td>98.3466</td>\n    </tr>\n    <tr>\n      <th>3</th>\n      <td>England</td>\n      <td>E92000001</td>\n      <td>North East</td>\n      <td>E12000001</td>\n      <td>Hartlepool</td>\n      <td>Hartlepool</td>\n      <td>E06000001</td>\n      <td>2005</td>\n      <td>Domestic</td>\n      <td>Domestic Electricity</td>\n      <td>80.639845</td>\n      <td>80.639845</td>\n      <td>90.457</td>\n      <td>98.3466</td>\n    </tr>\n    <tr>\n      <th>4</th>\n      <td>England</td>\n      <td>E92000001</td>\n      <td>North East</td>\n      <td>E12000001</td>\n      <td>Hartlepool</td>\n      <td>Hartlepool</td>\n      <td>E06000001</td>\n      <td>2005</td>\n      <td>Domestic</td>\n      <td>Domestic Gas</td>\n      <td>131.383713</td>\n      <td>131.383713</td>\n      <td>90.457</td>\n      <td>98.3466</td>\n    </tr>\n    <tr>\n      <th>...</th>\n      <td>...</td>\n      <td>...</td>\n      <td>...</td>\n      <td>...</td>\n      <td>...</td>\n      <td>...</td>\n      <td>...</td>\n      <td>...</td>\n      <td>...</td>\n      <td>...</td>\n      <td>...</td>\n      <td>...</td>\n      <td>...</td>\n      <td>...</td>\n    </tr>\n    <tr>\n      <th>106989</th>\n      <td>England</td>\n      <td>E92000001</td>\n      <td>London</td>\n      <td>E12000007</td>\n      <td>Westminster</td>\n      <td>Westminster</td>\n      <td>E09000033</td>\n      <td>2019</td>\n      <td>Public Sector</td>\n      <td>Public Sector 'Other Fuels'</td>\n      <td>0.857591</td>\n      <td>0.857591</td>\n      <td>261.317</td>\n      <td>22.0301</td>\n    </tr>\n    <tr>\n      <th>106990</th>\n      <td>England</td>\n      <td>E92000001</td>\n      <td>London</td>\n      <td>E12000007</td>\n      <td>Westminster</td>\n      <td>Westminster</td>\n      <td>E09000033</td>\n      <td>2019</td>\n      <td>Transport</td>\n      <td>Road Transport (A roads)</td>\n      <td>180.856113</td>\n      <td>180.856113</td>\n      <td>261.317</td>\n      <td>22.0301</td>\n    </tr>\n    <tr>\n      <th>106991</th>\n      <td>England</td>\n      <td>E92000001</td>\n      <td>London</td>\n      <td>E12000007</td>\n      <td>Westminster</td>\n      <td>Westminster</td>\n      <td>E09000033</td>\n      <td>2019</td>\n      <td>Transport</td>\n      <td>Road Transport (Minor roads)</td>\n      <td>89.550258</td>\n      <td>89.550258</td>\n      <td>261.317</td>\n      <td>22.0301</td>\n    </tr>\n    <tr>\n      <th>106992</th>\n      <td>England</td>\n      <td>E92000001</td>\n      <td>London</td>\n      <td>E12000007</td>\n      <td>Westminster</td>\n      <td>Westminster</td>\n      <td>E09000033</td>\n      <td>2019</td>\n      <td>Transport</td>\n      <td>Diesel Railways</td>\n      <td>1.992724</td>\n      <td>0.000000</td>\n      <td>261.317</td>\n      <td>22.0301</td>\n    </tr>\n    <tr>\n      <th>106993</th>\n      <td>England</td>\n      <td>E92000001</td>\n      <td>London</td>\n      <td>E12000007</td>\n      <td>Westminster</td>\n      <td>Westminster</td>\n      <td>E09000033</td>\n      <td>2019</td>\n      <td>Transport</td>\n      <td>Transport Other</td>\n      <td>1.121628</td>\n      <td>1.121628</td>\n      <td>261.317</td>\n      <td>22.0301</td>\n    </tr>\n  </tbody>\n</table>\n<p>106994 rows × 14 columns</p>\n</div>"
     },
     "execution_count": 122,
     "metadata": {},
     "output_type": "execute_result"
    }
   ],
   "source": [
    "# btc=my_data[my_data['symbol']=='BTC']#Extracting the bitcoin data from the dataframe\n",
    "# btc\n",
    "Eng_land =my_data[my_data['Country']=='England']#Extracting England data from the dataframe\n",
    "Eng_land"
   ],
   "metadata": {
    "collapsed": false,
    "pycharm": {
     "name": "#%%\n"
    }
   }
  },
  {
   "cell_type": "code",
   "execution_count": 123,
   "outputs": [
    {
     "data": {
      "text/plain": "                 Country Country Code            Region Region Code  \\\n106994  Northern Ireland    N92000002  Northern Ireland   N92000002   \n106995  Northern Ireland    N92000002  Northern Ireland   N92000002   \n106996  Northern Ireland    N92000002  Northern Ireland   N92000002   \n106997  Northern Ireland    N92000002  Northern Ireland   N92000002   \n106998  Northern Ireland    N92000002  Northern Ireland   N92000002   \n...                  ...          ...               ...         ...   \n110668  Northern Ireland    N92000002  Northern Ireland   N92000002   \n110669  Northern Ireland    N92000002  Northern Ireland   N92000002   \n110670  Northern Ireland    N92000002  Northern Ireland   N92000002   \n110671  Northern Ireland    N92000002  Northern Ireland   N92000002   \n110672  Northern Ireland    N92000002  Northern Ireland   N92000002   \n\n       Second Tier Authority          Local Authority Local Authority Code  \\\n106994      Northern Ireland  Antrim and Newtownabbey            N09000001   \n106995      Northern Ireland  Antrim and Newtownabbey            N09000001   \n106996      Northern Ireland  Antrim and Newtownabbey            N09000001   \n106997      Northern Ireland  Antrim and Newtownabbey            N09000001   \n106998      Northern Ireland  Antrim and Newtownabbey            N09000001   \n...                      ...                      ...                  ...   \n110668      Northern Ireland      Ards and North Down            N09000011   \n110669      Northern Ireland      Ards and North Down            N09000011   \n110670      Northern Ireland      Ards and North Down            N09000011   \n110671      Northern Ireland      Ards and North Down            N09000011   \n110672      Northern Ireland      Ards and North Down            N09000011   \n\n        Calendar Year  LA CO2 Sector             LA CO2 Sub-sector  \\\n106994           2005     Commercial        Commercial Electricity   \n106995           2005     Commercial                Commercial Gas   \n106996           2005     Commercial      Commercial 'Other Fuels'   \n106997           2005       Domestic          Domestic Electricity   \n106998           2005       Domestic                  Domestic Gas   \n...               ...            ...                           ...   \n110668           2019  Public Sector   Public Sector 'Other Fuels'   \n110669           2019      Transport      Road Transport (A roads)   \n110670           2019      Transport  Road Transport (Minor roads)   \n110671           2019      Transport               Diesel Railways   \n110672           2019      Transport               Transport Other   \n\n        Territorial emissions (kt CO2)  \\\n106994                       48.606519   \n106995                       16.256937   \n106996                        3.548631   \n106997                      128.801606   \n106998                       16.966301   \n...                                ...   \n110668                        0.838211   \n110669                      118.966924   \n110670                       65.737584   \n110671                        4.334469   \n110672                        2.363867   \n\n        Emissions within the scope of influence of LAs (kt CO2)  \\\n106994                                          48.606519         \n106995                                          16.256937         \n106996                                           3.548631         \n106997                                         128.801606         \n106998                                          16.966301         \n...                                                   ...         \n110668                                           0.838211         \n110669                                         118.966924         \n110670                                          65.737584         \n110671                                           0.000000         \n110672                                           2.363867         \n\n        Mid-year Population (thousands)  Area (km2)  \n106994                          132.350    728.1864  \n106995                          132.350    728.1864  \n106996                          132.350    728.1864  \n106997                          132.350    728.1864  \n106998                          132.350    728.1864  \n...                                 ...         ...  \n110668                          161.725    566.4732  \n110669                          161.725    566.4732  \n110670                          161.725    566.4732  \n110671                          161.725    566.4732  \n110672                          161.725    566.4732  \n\n[3679 rows x 14 columns]",
      "text/html": "<div>\n<style scoped>\n    .dataframe tbody tr th:only-of-type {\n        vertical-align: middle;\n    }\n\n    .dataframe tbody tr th {\n        vertical-align: top;\n    }\n\n    .dataframe thead th {\n        text-align: right;\n    }\n</style>\n<table border=\"1\" class=\"dataframe\">\n  <thead>\n    <tr style=\"text-align: right;\">\n      <th></th>\n      <th>Country</th>\n      <th>Country Code</th>\n      <th>Region</th>\n      <th>Region Code</th>\n      <th>Second Tier Authority</th>\n      <th>Local Authority</th>\n      <th>Local Authority Code</th>\n      <th>Calendar Year</th>\n      <th>LA CO2 Sector</th>\n      <th>LA CO2 Sub-sector</th>\n      <th>Territorial emissions (kt CO2)</th>\n      <th>Emissions within the scope of influence of LAs (kt CO2)</th>\n      <th>Mid-year Population (thousands)</th>\n      <th>Area (km2)</th>\n    </tr>\n  </thead>\n  <tbody>\n    <tr>\n      <th>106994</th>\n      <td>Northern Ireland</td>\n      <td>N92000002</td>\n      <td>Northern Ireland</td>\n      <td>N92000002</td>\n      <td>Northern Ireland</td>\n      <td>Antrim and Newtownabbey</td>\n      <td>N09000001</td>\n      <td>2005</td>\n      <td>Commercial</td>\n      <td>Commercial Electricity</td>\n      <td>48.606519</td>\n      <td>48.606519</td>\n      <td>132.350</td>\n      <td>728.1864</td>\n    </tr>\n    <tr>\n      <th>106995</th>\n      <td>Northern Ireland</td>\n      <td>N92000002</td>\n      <td>Northern Ireland</td>\n      <td>N92000002</td>\n      <td>Northern Ireland</td>\n      <td>Antrim and Newtownabbey</td>\n      <td>N09000001</td>\n      <td>2005</td>\n      <td>Commercial</td>\n      <td>Commercial Gas</td>\n      <td>16.256937</td>\n      <td>16.256937</td>\n      <td>132.350</td>\n      <td>728.1864</td>\n    </tr>\n    <tr>\n      <th>106996</th>\n      <td>Northern Ireland</td>\n      <td>N92000002</td>\n      <td>Northern Ireland</td>\n      <td>N92000002</td>\n      <td>Northern Ireland</td>\n      <td>Antrim and Newtownabbey</td>\n      <td>N09000001</td>\n      <td>2005</td>\n      <td>Commercial</td>\n      <td>Commercial 'Other Fuels'</td>\n      <td>3.548631</td>\n      <td>3.548631</td>\n      <td>132.350</td>\n      <td>728.1864</td>\n    </tr>\n    <tr>\n      <th>106997</th>\n      <td>Northern Ireland</td>\n      <td>N92000002</td>\n      <td>Northern Ireland</td>\n      <td>N92000002</td>\n      <td>Northern Ireland</td>\n      <td>Antrim and Newtownabbey</td>\n      <td>N09000001</td>\n      <td>2005</td>\n      <td>Domestic</td>\n      <td>Domestic Electricity</td>\n      <td>128.801606</td>\n      <td>128.801606</td>\n      <td>132.350</td>\n      <td>728.1864</td>\n    </tr>\n    <tr>\n      <th>106998</th>\n      <td>Northern Ireland</td>\n      <td>N92000002</td>\n      <td>Northern Ireland</td>\n      <td>N92000002</td>\n      <td>Northern Ireland</td>\n      <td>Antrim and Newtownabbey</td>\n      <td>N09000001</td>\n      <td>2005</td>\n      <td>Domestic</td>\n      <td>Domestic Gas</td>\n      <td>16.966301</td>\n      <td>16.966301</td>\n      <td>132.350</td>\n      <td>728.1864</td>\n    </tr>\n    <tr>\n      <th>...</th>\n      <td>...</td>\n      <td>...</td>\n      <td>...</td>\n      <td>...</td>\n      <td>...</td>\n      <td>...</td>\n      <td>...</td>\n      <td>...</td>\n      <td>...</td>\n      <td>...</td>\n      <td>...</td>\n      <td>...</td>\n      <td>...</td>\n      <td>...</td>\n    </tr>\n    <tr>\n      <th>110668</th>\n      <td>Northern Ireland</td>\n      <td>N92000002</td>\n      <td>Northern Ireland</td>\n      <td>N92000002</td>\n      <td>Northern Ireland</td>\n      <td>Ards and North Down</td>\n      <td>N09000011</td>\n      <td>2019</td>\n      <td>Public Sector</td>\n      <td>Public Sector 'Other Fuels'</td>\n      <td>0.838211</td>\n      <td>0.838211</td>\n      <td>161.725</td>\n      <td>566.4732</td>\n    </tr>\n    <tr>\n      <th>110669</th>\n      <td>Northern Ireland</td>\n      <td>N92000002</td>\n      <td>Northern Ireland</td>\n      <td>N92000002</td>\n      <td>Northern Ireland</td>\n      <td>Ards and North Down</td>\n      <td>N09000011</td>\n      <td>2019</td>\n      <td>Transport</td>\n      <td>Road Transport (A roads)</td>\n      <td>118.966924</td>\n      <td>118.966924</td>\n      <td>161.725</td>\n      <td>566.4732</td>\n    </tr>\n    <tr>\n      <th>110670</th>\n      <td>Northern Ireland</td>\n      <td>N92000002</td>\n      <td>Northern Ireland</td>\n      <td>N92000002</td>\n      <td>Northern Ireland</td>\n      <td>Ards and North Down</td>\n      <td>N09000011</td>\n      <td>2019</td>\n      <td>Transport</td>\n      <td>Road Transport (Minor roads)</td>\n      <td>65.737584</td>\n      <td>65.737584</td>\n      <td>161.725</td>\n      <td>566.4732</td>\n    </tr>\n    <tr>\n      <th>110671</th>\n      <td>Northern Ireland</td>\n      <td>N92000002</td>\n      <td>Northern Ireland</td>\n      <td>N92000002</td>\n      <td>Northern Ireland</td>\n      <td>Ards and North Down</td>\n      <td>N09000011</td>\n      <td>2019</td>\n      <td>Transport</td>\n      <td>Diesel Railways</td>\n      <td>4.334469</td>\n      <td>0.000000</td>\n      <td>161.725</td>\n      <td>566.4732</td>\n    </tr>\n    <tr>\n      <th>110672</th>\n      <td>Northern Ireland</td>\n      <td>N92000002</td>\n      <td>Northern Ireland</td>\n      <td>N92000002</td>\n      <td>Northern Ireland</td>\n      <td>Ards and North Down</td>\n      <td>N09000011</td>\n      <td>2019</td>\n      <td>Transport</td>\n      <td>Transport Other</td>\n      <td>2.363867</td>\n      <td>2.363867</td>\n      <td>161.725</td>\n      <td>566.4732</td>\n    </tr>\n  </tbody>\n</table>\n<p>3679 rows × 14 columns</p>\n</div>"
     },
     "execution_count": 123,
     "metadata": {},
     "output_type": "execute_result"
    }
   ],
   "source": [
    "Northern_Ireland =my_data[my_data['Country']=='Northern Ireland']#Extracting England data from the dataframe\n",
    "Northern_Ireland"
   ],
   "metadata": {
    "collapsed": false,
    "pycharm": {
     "name": "#%%\n"
    }
   }
  },
  {
   "cell_type": "code",
   "execution_count": 68,
   "outputs": [
    {
     "data": {
      "text/plain": "         Country Country Code    Region Region Code Second Tier Authority  \\\n110703  Scotland    S92000003  Scotland   S92000003              Scotland   \n110704  Scotland    S92000003  Scotland   S92000003              Scotland   \n110705  Scotland    S92000003  Scotland   S92000003              Scotland   \n110706  Scotland    S92000003  Scotland   S92000003              Scotland   \n110707  Scotland    S92000003  Scotland   S92000003              Scotland   \n...          ...          ...       ...         ...                   ...   \n121626  Scotland    S92000003  Scotland   S92000003              Scotland   \n121627  Scotland    S92000003  Scotland   S92000003              Scotland   \n121628  Scotland    S92000003  Scotland   S92000003              Scotland   \n121629  Scotland    S92000003  Scotland   S92000003              Scotland   \n121630  Scotland    S92000003  Scotland   S92000003              Scotland   \n\n          Local Authority Local Authority Code  Calendar Year LA CO2 Sector  \\\n110703   Clackmannanshire            S12000005           2005    Commercial   \n110704   Clackmannanshire            S12000005           2005    Commercial   \n110705   Clackmannanshire            S12000005           2005    Commercial   \n110706   Clackmannanshire            S12000005           2005      Domestic   \n110707   Clackmannanshire            S12000005           2005      Domestic   \n...                   ...                  ...            ...           ...   \n121626  North Lanarkshire            S12000050           2019     Transport   \n121627  North Lanarkshire            S12000050           2019     Transport   \n121628  North Lanarkshire            S12000050           2019     Transport   \n121629  North Lanarkshire            S12000050           2019     Transport   \n121630  North Lanarkshire            S12000050           2019     Transport   \n\n                   LA CO2 Sub-sector  Territorial emissions (kt CO2)  \\\n110703        Commercial Electricity                       41.268053   \n110704                Commercial Gas                       29.402851   \n110705      Commercial 'Other Fuels'                        0.163952   \n110706          Domestic Electricity                       54.052582   \n110707                  Domestic Gas                       72.955597   \n...                              ...                             ...   \n121626      Road Transport (A roads)                      182.256170   \n121627    Road Transport (Motorways)                      305.541643   \n121628  Road Transport (Minor roads)                      281.302384   \n121629               Diesel Railways                        7.612655   \n121630               Transport Other                        3.793028   \n\n        Emissions within the scope of influence of LAs (kt CO2)  \\\n110703                                          41.268053         \n110704                                          29.402851         \n110705                                           0.163952         \n110706                                          54.052582         \n110707                                          72.955597         \n...                                                   ...         \n121626                                         182.256170         \n121627                                           0.000000         \n121628                                         281.302384         \n121629                                           0.000000         \n121630                                           3.793028         \n\n        Mid-year Population (thousands)  Area (km2)  \n110703                            49.16    163.9126  \n110704                            49.16    163.9126  \n110705                            49.16    163.9126  \n110706                            49.16    163.9126  \n110707                            49.16    163.9126  \n...                                 ...         ...  \n121626                           341.37    472.3091  \n121627                           341.37    472.3091  \n121628                           341.37    472.3091  \n121629                           341.37    472.3091  \n121630                           341.37    472.3091  \n\n[10928 rows x 14 columns]",
      "text/html": "<div>\n<style scoped>\n    .dataframe tbody tr th:only-of-type {\n        vertical-align: middle;\n    }\n\n    .dataframe tbody tr th {\n        vertical-align: top;\n    }\n\n    .dataframe thead th {\n        text-align: right;\n    }\n</style>\n<table border=\"1\" class=\"dataframe\">\n  <thead>\n    <tr style=\"text-align: right;\">\n      <th></th>\n      <th>Country</th>\n      <th>Country Code</th>\n      <th>Region</th>\n      <th>Region Code</th>\n      <th>Second Tier Authority</th>\n      <th>Local Authority</th>\n      <th>Local Authority Code</th>\n      <th>Calendar Year</th>\n      <th>LA CO2 Sector</th>\n      <th>LA CO2 Sub-sector</th>\n      <th>Territorial emissions (kt CO2)</th>\n      <th>Emissions within the scope of influence of LAs (kt CO2)</th>\n      <th>Mid-year Population (thousands)</th>\n      <th>Area (km2)</th>\n    </tr>\n  </thead>\n  <tbody>\n    <tr>\n      <th>110703</th>\n      <td>Scotland</td>\n      <td>S92000003</td>\n      <td>Scotland</td>\n      <td>S92000003</td>\n      <td>Scotland</td>\n      <td>Clackmannanshire</td>\n      <td>S12000005</td>\n      <td>2005</td>\n      <td>Commercial</td>\n      <td>Commercial Electricity</td>\n      <td>41.268053</td>\n      <td>41.268053</td>\n      <td>49.16</td>\n      <td>163.9126</td>\n    </tr>\n    <tr>\n      <th>110704</th>\n      <td>Scotland</td>\n      <td>S92000003</td>\n      <td>Scotland</td>\n      <td>S92000003</td>\n      <td>Scotland</td>\n      <td>Clackmannanshire</td>\n      <td>S12000005</td>\n      <td>2005</td>\n      <td>Commercial</td>\n      <td>Commercial Gas</td>\n      <td>29.402851</td>\n      <td>29.402851</td>\n      <td>49.16</td>\n      <td>163.9126</td>\n    </tr>\n    <tr>\n      <th>110705</th>\n      <td>Scotland</td>\n      <td>S92000003</td>\n      <td>Scotland</td>\n      <td>S92000003</td>\n      <td>Scotland</td>\n      <td>Clackmannanshire</td>\n      <td>S12000005</td>\n      <td>2005</td>\n      <td>Commercial</td>\n      <td>Commercial 'Other Fuels'</td>\n      <td>0.163952</td>\n      <td>0.163952</td>\n      <td>49.16</td>\n      <td>163.9126</td>\n    </tr>\n    <tr>\n      <th>110706</th>\n      <td>Scotland</td>\n      <td>S92000003</td>\n      <td>Scotland</td>\n      <td>S92000003</td>\n      <td>Scotland</td>\n      <td>Clackmannanshire</td>\n      <td>S12000005</td>\n      <td>2005</td>\n      <td>Domestic</td>\n      <td>Domestic Electricity</td>\n      <td>54.052582</td>\n      <td>54.052582</td>\n      <td>49.16</td>\n      <td>163.9126</td>\n    </tr>\n    <tr>\n      <th>110707</th>\n      <td>Scotland</td>\n      <td>S92000003</td>\n      <td>Scotland</td>\n      <td>S92000003</td>\n      <td>Scotland</td>\n      <td>Clackmannanshire</td>\n      <td>S12000005</td>\n      <td>2005</td>\n      <td>Domestic</td>\n      <td>Domestic Gas</td>\n      <td>72.955597</td>\n      <td>72.955597</td>\n      <td>49.16</td>\n      <td>163.9126</td>\n    </tr>\n    <tr>\n      <th>...</th>\n      <td>...</td>\n      <td>...</td>\n      <td>...</td>\n      <td>...</td>\n      <td>...</td>\n      <td>...</td>\n      <td>...</td>\n      <td>...</td>\n      <td>...</td>\n      <td>...</td>\n      <td>...</td>\n      <td>...</td>\n      <td>...</td>\n      <td>...</td>\n    </tr>\n    <tr>\n      <th>121626</th>\n      <td>Scotland</td>\n      <td>S92000003</td>\n      <td>Scotland</td>\n      <td>S92000003</td>\n      <td>Scotland</td>\n      <td>North Lanarkshire</td>\n      <td>S12000050</td>\n      <td>2019</td>\n      <td>Transport</td>\n      <td>Road Transport (A roads)</td>\n      <td>182.256170</td>\n      <td>182.256170</td>\n      <td>341.37</td>\n      <td>472.3091</td>\n    </tr>\n    <tr>\n      <th>121627</th>\n      <td>Scotland</td>\n      <td>S92000003</td>\n      <td>Scotland</td>\n      <td>S92000003</td>\n      <td>Scotland</td>\n      <td>North Lanarkshire</td>\n      <td>S12000050</td>\n      <td>2019</td>\n      <td>Transport</td>\n      <td>Road Transport (Motorways)</td>\n      <td>305.541643</td>\n      <td>0.000000</td>\n      <td>341.37</td>\n      <td>472.3091</td>\n    </tr>\n    <tr>\n      <th>121628</th>\n      <td>Scotland</td>\n      <td>S92000003</td>\n      <td>Scotland</td>\n      <td>S92000003</td>\n      <td>Scotland</td>\n      <td>North Lanarkshire</td>\n      <td>S12000050</td>\n      <td>2019</td>\n      <td>Transport</td>\n      <td>Road Transport (Minor roads)</td>\n      <td>281.302384</td>\n      <td>281.302384</td>\n      <td>341.37</td>\n      <td>472.3091</td>\n    </tr>\n    <tr>\n      <th>121629</th>\n      <td>Scotland</td>\n      <td>S92000003</td>\n      <td>Scotland</td>\n      <td>S92000003</td>\n      <td>Scotland</td>\n      <td>North Lanarkshire</td>\n      <td>S12000050</td>\n      <td>2019</td>\n      <td>Transport</td>\n      <td>Diesel Railways</td>\n      <td>7.612655</td>\n      <td>0.000000</td>\n      <td>341.37</td>\n      <td>472.3091</td>\n    </tr>\n    <tr>\n      <th>121630</th>\n      <td>Scotland</td>\n      <td>S92000003</td>\n      <td>Scotland</td>\n      <td>S92000003</td>\n      <td>Scotland</td>\n      <td>North Lanarkshire</td>\n      <td>S12000050</td>\n      <td>2019</td>\n      <td>Transport</td>\n      <td>Transport Other</td>\n      <td>3.793028</td>\n      <td>3.793028</td>\n      <td>341.37</td>\n      <td>472.3091</td>\n    </tr>\n  </tbody>\n</table>\n<p>10928 rows × 14 columns</p>\n</div>"
     },
     "execution_count": 68,
     "metadata": {},
     "output_type": "execute_result"
    }
   ],
   "source": [
    "Scot_land =my_data[my_data['Country']=='Scotland']#Extracting England data from the dataframe\n",
    "Scot_land"
   ],
   "metadata": {
    "collapsed": false,
    "pycharm": {
     "name": "#%%\n"
    }
   }
  },
  {
   "cell_type": "code",
   "execution_count": 69,
   "outputs": [
    {
     "data": {
      "text/plain": "       Country Country Code Region Region Code Second Tier Authority  \\\n121631   Wales    W92000004  Wales   W92000004                 Wales   \n121632   Wales    W92000004  Wales   W92000004                 Wales   \n121633   Wales    W92000004  Wales   W92000004                 Wales   \n121634   Wales    W92000004  Wales   W92000004                 Wales   \n121635   Wales    W92000004  Wales   W92000004                 Wales   \n...        ...          ...    ...         ...                   ...   \n129260   Wales    W92000004  Wales   W92000004                 Wales   \n129261   Wales    W92000004  Wales   W92000004                 Wales   \n129262   Wales    W92000004  Wales   W92000004                 Wales   \n129263   Wales    W92000004  Wales   W92000004                 Wales   \n129264   Wales    W92000004  Wales   W92000004                 Wales   \n\n         Local Authority Local Authority Code  Calendar Year  LA CO2 Sector  \\\n121631  Isle of Anglesey            W06000001           2005     Commercial   \n121632  Isle of Anglesey            W06000001           2005     Commercial   \n121633  Isle of Anglesey            W06000001           2005     Commercial   \n121634  Isle of Anglesey            W06000001           2005       Domestic   \n121635  Isle of Anglesey            W06000001           2005       Domestic   \n...                  ...                  ...            ...            ...   \n129260    Merthyr Tydfil            W06000024           2019  Public Sector   \n129261    Merthyr Tydfil            W06000024           2019      Transport   \n129262    Merthyr Tydfil            W06000024           2019      Transport   \n129263    Merthyr Tydfil            W06000024           2019      Transport   \n129264    Merthyr Tydfil            W06000024           2019      Transport   \n\n                   LA CO2 Sub-sector  Territorial emissions (kt CO2)  \\\n121631        Commercial Electricity                       47.030652   \n121632                Commercial Gas                       11.552509   \n121633      Commercial 'Other Fuels'                        1.138490   \n121634          Domestic Electricity                       93.465801   \n121635                  Domestic Gas                       46.755134   \n...                              ...                             ...   \n129260   Public Sector 'Other Fuels'                        0.105123   \n129261      Road Transport (A roads)                       58.731503   \n129262  Road Transport (Minor roads)                       23.451077   \n129263               Diesel Railways                        2.652905   \n129264               Transport Other                        0.494624   \n\n        Emissions within the scope of influence of LAs (kt CO2)  \\\n121631                                          47.030652         \n121632                                          11.552509         \n121633                                           1.138490         \n121634                                          93.465801         \n121635                                          46.755134         \n...                                                   ...         \n129260                                           0.105123         \n129261                                          58.731503         \n129262                                          23.451077         \n129263                                           0.000000         \n129264                                           0.447552         \n\n        Mid-year Population (thousands)  Area (km2)  \n121631                           69.095    749.4385  \n121632                           69.095    749.4385  \n121633                           69.095    749.4385  \n121634                           69.095    749.4385  \n121635                           69.095    749.4385  \n...                                 ...         ...  \n129260                           60.326    111.9569  \n129261                           60.326    111.9569  \n129262                           60.326    111.9569  \n129263                           60.326    111.9569  \n129264                           60.326    111.9569  \n\n[7634 rows x 14 columns]",
      "text/html": "<div>\n<style scoped>\n    .dataframe tbody tr th:only-of-type {\n        vertical-align: middle;\n    }\n\n    .dataframe tbody tr th {\n        vertical-align: top;\n    }\n\n    .dataframe thead th {\n        text-align: right;\n    }\n</style>\n<table border=\"1\" class=\"dataframe\">\n  <thead>\n    <tr style=\"text-align: right;\">\n      <th></th>\n      <th>Country</th>\n      <th>Country Code</th>\n      <th>Region</th>\n      <th>Region Code</th>\n      <th>Second Tier Authority</th>\n      <th>Local Authority</th>\n      <th>Local Authority Code</th>\n      <th>Calendar Year</th>\n      <th>LA CO2 Sector</th>\n      <th>LA CO2 Sub-sector</th>\n      <th>Territorial emissions (kt CO2)</th>\n      <th>Emissions within the scope of influence of LAs (kt CO2)</th>\n      <th>Mid-year Population (thousands)</th>\n      <th>Area (km2)</th>\n    </tr>\n  </thead>\n  <tbody>\n    <tr>\n      <th>121631</th>\n      <td>Wales</td>\n      <td>W92000004</td>\n      <td>Wales</td>\n      <td>W92000004</td>\n      <td>Wales</td>\n      <td>Isle of Anglesey</td>\n      <td>W06000001</td>\n      <td>2005</td>\n      <td>Commercial</td>\n      <td>Commercial Electricity</td>\n      <td>47.030652</td>\n      <td>47.030652</td>\n      <td>69.095</td>\n      <td>749.4385</td>\n    </tr>\n    <tr>\n      <th>121632</th>\n      <td>Wales</td>\n      <td>W92000004</td>\n      <td>Wales</td>\n      <td>W92000004</td>\n      <td>Wales</td>\n      <td>Isle of Anglesey</td>\n      <td>W06000001</td>\n      <td>2005</td>\n      <td>Commercial</td>\n      <td>Commercial Gas</td>\n      <td>11.552509</td>\n      <td>11.552509</td>\n      <td>69.095</td>\n      <td>749.4385</td>\n    </tr>\n    <tr>\n      <th>121633</th>\n      <td>Wales</td>\n      <td>W92000004</td>\n      <td>Wales</td>\n      <td>W92000004</td>\n      <td>Wales</td>\n      <td>Isle of Anglesey</td>\n      <td>W06000001</td>\n      <td>2005</td>\n      <td>Commercial</td>\n      <td>Commercial 'Other Fuels'</td>\n      <td>1.138490</td>\n      <td>1.138490</td>\n      <td>69.095</td>\n      <td>749.4385</td>\n    </tr>\n    <tr>\n      <th>121634</th>\n      <td>Wales</td>\n      <td>W92000004</td>\n      <td>Wales</td>\n      <td>W92000004</td>\n      <td>Wales</td>\n      <td>Isle of Anglesey</td>\n      <td>W06000001</td>\n      <td>2005</td>\n      <td>Domestic</td>\n      <td>Domestic Electricity</td>\n      <td>93.465801</td>\n      <td>93.465801</td>\n      <td>69.095</td>\n      <td>749.4385</td>\n    </tr>\n    <tr>\n      <th>121635</th>\n      <td>Wales</td>\n      <td>W92000004</td>\n      <td>Wales</td>\n      <td>W92000004</td>\n      <td>Wales</td>\n      <td>Isle of Anglesey</td>\n      <td>W06000001</td>\n      <td>2005</td>\n      <td>Domestic</td>\n      <td>Domestic Gas</td>\n      <td>46.755134</td>\n      <td>46.755134</td>\n      <td>69.095</td>\n      <td>749.4385</td>\n    </tr>\n    <tr>\n      <th>...</th>\n      <td>...</td>\n      <td>...</td>\n      <td>...</td>\n      <td>...</td>\n      <td>...</td>\n      <td>...</td>\n      <td>...</td>\n      <td>...</td>\n      <td>...</td>\n      <td>...</td>\n      <td>...</td>\n      <td>...</td>\n      <td>...</td>\n      <td>...</td>\n    </tr>\n    <tr>\n      <th>129260</th>\n      <td>Wales</td>\n      <td>W92000004</td>\n      <td>Wales</td>\n      <td>W92000004</td>\n      <td>Wales</td>\n      <td>Merthyr Tydfil</td>\n      <td>W06000024</td>\n      <td>2019</td>\n      <td>Public Sector</td>\n      <td>Public Sector 'Other Fuels'</td>\n      <td>0.105123</td>\n      <td>0.105123</td>\n      <td>60.326</td>\n      <td>111.9569</td>\n    </tr>\n    <tr>\n      <th>129261</th>\n      <td>Wales</td>\n      <td>W92000004</td>\n      <td>Wales</td>\n      <td>W92000004</td>\n      <td>Wales</td>\n      <td>Merthyr Tydfil</td>\n      <td>W06000024</td>\n      <td>2019</td>\n      <td>Transport</td>\n      <td>Road Transport (A roads)</td>\n      <td>58.731503</td>\n      <td>58.731503</td>\n      <td>60.326</td>\n      <td>111.9569</td>\n    </tr>\n    <tr>\n      <th>129262</th>\n      <td>Wales</td>\n      <td>W92000004</td>\n      <td>Wales</td>\n      <td>W92000004</td>\n      <td>Wales</td>\n      <td>Merthyr Tydfil</td>\n      <td>W06000024</td>\n      <td>2019</td>\n      <td>Transport</td>\n      <td>Road Transport (Minor roads)</td>\n      <td>23.451077</td>\n      <td>23.451077</td>\n      <td>60.326</td>\n      <td>111.9569</td>\n    </tr>\n    <tr>\n      <th>129263</th>\n      <td>Wales</td>\n      <td>W92000004</td>\n      <td>Wales</td>\n      <td>W92000004</td>\n      <td>Wales</td>\n      <td>Merthyr Tydfil</td>\n      <td>W06000024</td>\n      <td>2019</td>\n      <td>Transport</td>\n      <td>Diesel Railways</td>\n      <td>2.652905</td>\n      <td>0.000000</td>\n      <td>60.326</td>\n      <td>111.9569</td>\n    </tr>\n    <tr>\n      <th>129264</th>\n      <td>Wales</td>\n      <td>W92000004</td>\n      <td>Wales</td>\n      <td>W92000004</td>\n      <td>Wales</td>\n      <td>Merthyr Tydfil</td>\n      <td>W06000024</td>\n      <td>2019</td>\n      <td>Transport</td>\n      <td>Transport Other</td>\n      <td>0.494624</td>\n      <td>0.447552</td>\n      <td>60.326</td>\n      <td>111.9569</td>\n    </tr>\n  </tbody>\n</table>\n<p>7634 rows × 14 columns</p>\n</div>"
     },
     "execution_count": 69,
     "metadata": {},
     "output_type": "execute_result"
    }
   ],
   "source": [
    "Wales1 =my_data[my_data['Country']=='Wales']#Extracting England data from the dataframe\n",
    "Wales1"
   ],
   "metadata": {
    "collapsed": false,
    "pycharm": {
     "name": "#%%\n"
    }
   }
  },
  {
   "cell_type": "code",
   "execution_count": 42,
   "outputs": [
    {
     "name": "stdout",
     "output_type": "stream",
     "text": [
      "\n",
      " These are the missing data \n",
      "        Country Country Code Region Region Code Second Tier Authority  \\\n",
      "110673     NaN          NaN    NaN         NaN                   NaN   \n",
      "110674     NaN          NaN    NaN         NaN                   NaN   \n",
      "110675     NaN          NaN    NaN         NaN                   NaN   \n",
      "110676     NaN          NaN    NaN         NaN                   NaN   \n",
      "110677     NaN          NaN    NaN         NaN                   NaN   \n",
      "...        ...          ...    ...         ...                   ...   \n",
      "129383     NaN          NaN    NaN         NaN                   NaN   \n",
      "129384     NaN          NaN    NaN         NaN                   NaN   \n",
      "129385     NaN          NaN    NaN         NaN                   NaN   \n",
      "129386     NaN          NaN    NaN         NaN                   NaN   \n",
      "129387     NaN          NaN    NaN         NaN                   NaN   \n",
      "\n",
      "                   Local Authority Local Authority Code  Calendar Year  \\\n",
      "110673  Unallocated electricity NI            N92000002           2005   \n",
      "110674  Unallocated electricity NI            N92000002           2005   \n",
      "110675  Unallocated electricity NI            N92000002           2006   \n",
      "110676  Unallocated electricity NI            N92000002           2006   \n",
      "110677  Unallocated electricity NI            N92000002           2007   \n",
      "...                            ...                  ...            ...   \n",
      "129383     Unallocated consumption                  NaN           2019   \n",
      "129384     Unallocated consumption                  NaN           2019   \n",
      "129385     Unallocated consumption                  NaN           2019   \n",
      "129386     Unallocated consumption                  NaN           2019   \n",
      "129387     Unallocated consumption                  NaN           2019   \n",
      "\n",
      "       LA CO2 Sector                              LA CO2 Sub-sector  \\\n",
      "110673      Domestic                           Domestic Electricity   \n",
      "110674      Industry                           Industry Electricity   \n",
      "110675      Domestic                           Domestic Electricity   \n",
      "110676      Industry                           Industry Electricity   \n",
      "110677      Domestic                           Domestic Electricity   \n",
      "...              ...                                            ...   \n",
      "129383      Industry                                   Industry Gas   \n",
      "129384        LULUCF              LULUCF Net Emissions: Forest land   \n",
      "129385        LULUCF                 LULUCF Net Emissions: Cropland   \n",
      "129386        LULUCF                LULUCF Net Emissions: Grassland   \n",
      "129387        LULUCF  LULUCF Net Emissions: Harvested Wood Products   \n",
      "\n",
      "        Territorial emissions (kt CO2)  \\\n",
      "110673                    3.077354e+01   \n",
      "110674                    1.880670e+00   \n",
      "110675                    3.302808e+01   \n",
      "110676                    2.149435e+00   \n",
      "110677                    3.308645e+01   \n",
      "...                                ...   \n",
      "129383                    2.574098e+02   \n",
      "129384                   -3.270000e-11   \n",
      "129385                    1.820000e-11   \n",
      "129386                    8.640000e-12   \n",
      "129387                   -2.222564e+03   \n",
      "\n",
      "        Emissions within the scope of influence of LAs (kt CO2)  \\\n",
      "110673                                          30.773539         \n",
      "110674                                           1.880670         \n",
      "110675                                          33.028076         \n",
      "110676                                           2.149435         \n",
      "110677                                          33.086445         \n",
      "...                                                   ...         \n",
      "129383                                         257.409829         \n",
      "129384                                           0.000000         \n",
      "129385                                           0.000000         \n",
      "129386                                           0.000000         \n",
      "129387                                           0.000000         \n",
      "\n",
      "        Mid-year Population (thousands)  Area (km2)  \n",
      "110673                              NaN         NaN  \n",
      "110674                              NaN         NaN  \n",
      "110675                              NaN         NaN  \n",
      "110676                              NaN         NaN  \n",
      "110677                              NaN         NaN  \n",
      "...                                 ...         ...  \n",
      "129383                              NaN         NaN  \n",
      "129384                              NaN         NaN  \n",
      "129385                              NaN         NaN  \n",
      "129386                              NaN         NaN  \n",
      "129387                              NaN         NaN  \n",
      "\n",
      "[153 rows x 14 columns]\n"
     ]
    }
   ],
   "source": [
    "my_data = my_data[my_data.isna().any(axis=1)]\n",
    "print('\\n These are the missing data \\n', my_data)"
   ],
   "metadata": {
    "collapsed": false,
    "pycharm": {
     "name": "#%%\n"
    }
   }
  },
  {
   "cell_type": "code",
   "execution_count": null,
   "outputs": [],
   "source": [],
   "metadata": {
    "collapsed": false,
    "pycharm": {
     "name": "#%%\n"
    }
   }
  },
  {
   "cell_type": "code",
   "execution_count": 53,
   "outputs": [
    {
     "data": {
      "text/plain": "       Calendar Year  Territorial emissions (kt CO2)  \\\ncount  129388.000000                   129388.000000   \nmean     2012.004575                       51.333002   \nstd         4.321080                      169.687627   \nmin      2005.000000                    -3256.716149   \n25%      2008.000000                        1.670336   \n50%      2012.000000                       15.379282   \n75%      2016.000000                       65.511506   \nmax      2019.000000                     9529.019680   \n\n       Emissions within the scope of influence of LAs (kt CO2)  \\\ncount                                      129388.000000         \nmean                                           42.798656         \nstd                                            83.154397         \nmin                                             0.000000         \n25%                                             0.000000         \n50%                                             8.340660         \n75%                                            54.758404         \nmax                                          4025.260014         \n\n       Mid-year Population (thousands)     Area (km2)  \ncount                    129235.000000  129235.000000  \nmean                        169.407561     660.715411  \nstd                         114.484123    1637.797146  \nmin                           2.210000       3.149600  \n25%                          97.605000      97.958400  \n50%                         134.934000     275.623400  \n75%                         208.182000     661.060800  \nmax                        1141.816000   26473.949600  ",
      "text/html": "<div>\n<style scoped>\n    .dataframe tbody tr th:only-of-type {\n        vertical-align: middle;\n    }\n\n    .dataframe tbody tr th {\n        vertical-align: top;\n    }\n\n    .dataframe thead th {\n        text-align: right;\n    }\n</style>\n<table border=\"1\" class=\"dataframe\">\n  <thead>\n    <tr style=\"text-align: right;\">\n      <th></th>\n      <th>Calendar Year</th>\n      <th>Territorial emissions (kt CO2)</th>\n      <th>Emissions within the scope of influence of LAs (kt CO2)</th>\n      <th>Mid-year Population (thousands)</th>\n      <th>Area (km2)</th>\n    </tr>\n  </thead>\n  <tbody>\n    <tr>\n      <th>count</th>\n      <td>129388.000000</td>\n      <td>129388.000000</td>\n      <td>129388.000000</td>\n      <td>129235.000000</td>\n      <td>129235.000000</td>\n    </tr>\n    <tr>\n      <th>mean</th>\n      <td>2012.004575</td>\n      <td>51.333002</td>\n      <td>42.798656</td>\n      <td>169.407561</td>\n      <td>660.715411</td>\n    </tr>\n    <tr>\n      <th>std</th>\n      <td>4.321080</td>\n      <td>169.687627</td>\n      <td>83.154397</td>\n      <td>114.484123</td>\n      <td>1637.797146</td>\n    </tr>\n    <tr>\n      <th>min</th>\n      <td>2005.000000</td>\n      <td>-3256.716149</td>\n      <td>0.000000</td>\n      <td>2.210000</td>\n      <td>3.149600</td>\n    </tr>\n    <tr>\n      <th>25%</th>\n      <td>2008.000000</td>\n      <td>1.670336</td>\n      <td>0.000000</td>\n      <td>97.605000</td>\n      <td>97.958400</td>\n    </tr>\n    <tr>\n      <th>50%</th>\n      <td>2012.000000</td>\n      <td>15.379282</td>\n      <td>8.340660</td>\n      <td>134.934000</td>\n      <td>275.623400</td>\n    </tr>\n    <tr>\n      <th>75%</th>\n      <td>2016.000000</td>\n      <td>65.511506</td>\n      <td>54.758404</td>\n      <td>208.182000</td>\n      <td>661.060800</td>\n    </tr>\n    <tr>\n      <th>max</th>\n      <td>2019.000000</td>\n      <td>9529.019680</td>\n      <td>4025.260014</td>\n      <td>1141.816000</td>\n      <td>26473.949600</td>\n    </tr>\n  </tbody>\n</table>\n</div>"
     },
     "execution_count": 53,
     "metadata": {},
     "output_type": "execute_result"
    }
   ],
   "source": [
    "my_data.describe()"
   ],
   "metadata": {
    "collapsed": false,
    "pycharm": {
     "name": "#%%\n"
    }
   }
  },
  {
   "cell_type": "code",
   "execution_count": 56,
   "outputs": [
    {
     "data": {
      "text/plain": "        Country Country Code      Region Region Code Second Tier Authority  \\\n0       England    E92000001  North East   E12000001            Hartlepool   \n1       England    E92000001  North East   E12000001            Hartlepool   \n2       England    E92000001  North East   E12000001            Hartlepool   \n3       England    E92000001  North East   E12000001            Hartlepool   \n4       England    E92000001  North East   E12000001            Hartlepool   \n...         ...          ...         ...         ...                   ...   \n129383      NaN          NaN         NaN         NaN                   NaN   \n129384      NaN          NaN         NaN         NaN                   NaN   \n129385      NaN          NaN         NaN         NaN                   NaN   \n129386      NaN          NaN         NaN         NaN                   NaN   \n129387      NaN          NaN         NaN         NaN                   NaN   \n\n                Local Authority Local Authority Code  Calendar Year  \\\n0                    Hartlepool            E06000001           2005   \n1                    Hartlepool            E06000001           2005   \n2                    Hartlepool            E06000001           2005   \n3                    Hartlepool            E06000001           2005   \n4                    Hartlepool            E06000001           2005   \n...                         ...                  ...            ...   \n129383  Unallocated consumption                  NaN           2019   \n129384  Unallocated consumption                  NaN           2019   \n129385  Unallocated consumption                  NaN           2019   \n129386  Unallocated consumption                  NaN           2019   \n129387  Unallocated consumption                  NaN           2019   \n\n       LA CO2 Sector                              LA CO2 Sub-sector  \\\n0         Commercial                         Commercial Electricity   \n1         Commercial                                 Commercial Gas   \n2         Commercial                       Commercial 'Other Fuels'   \n3           Domestic                           Domestic Electricity   \n4           Domestic                                   Domestic Gas   \n...              ...                                            ...   \n129383      Industry                                   Industry Gas   \n129384        LULUCF              LULUCF Net Emissions: Forest land   \n129385        LULUCF                 LULUCF Net Emissions: Cropland   \n129386        LULUCF                LULUCF Net Emissions: Grassland   \n129387        LULUCF  LULUCF Net Emissions: Harvested Wood Products   \n\n        CO2_emission  Emissions within the scope of influence of LAs (kt CO2)  \\\n0       7.719323e+01                                          77.193230         \n1       1.668924e+01                                          16.689241         \n2       1.981106e-01                                           0.198111         \n3       8.063985e+01                                          80.639845         \n4       1.313837e+02                                         131.383713         \n...              ...                                                ...         \n129383  2.574098e+02                                         257.409829         \n129384 -3.270000e-11                                           0.000000         \n129385  1.820000e-11                                           0.000000         \n129386  8.640000e-12                                           0.000000         \n129387 -2.222564e+03                                           0.000000         \n\n        Mid-year Population (thousands)  Area (km2)  \n0                                90.457     98.3466  \n1                                90.457     98.3466  \n2                                90.457     98.3466  \n3                                90.457     98.3466  \n4                                90.457     98.3466  \n...                                 ...         ...  \n129383                              NaN         NaN  \n129384                              NaN         NaN  \n129385                              NaN         NaN  \n129386                              NaN         NaN  \n129387                              NaN         NaN  \n\n[129388 rows x 14 columns]",
      "text/html": "<div>\n<style scoped>\n    .dataframe tbody tr th:only-of-type {\n        vertical-align: middle;\n    }\n\n    .dataframe tbody tr th {\n        vertical-align: top;\n    }\n\n    .dataframe thead th {\n        text-align: right;\n    }\n</style>\n<table border=\"1\" class=\"dataframe\">\n  <thead>\n    <tr style=\"text-align: right;\">\n      <th></th>\n      <th>Country</th>\n      <th>Country Code</th>\n      <th>Region</th>\n      <th>Region Code</th>\n      <th>Second Tier Authority</th>\n      <th>Local Authority</th>\n      <th>Local Authority Code</th>\n      <th>Calendar Year</th>\n      <th>LA CO2 Sector</th>\n      <th>LA CO2 Sub-sector</th>\n      <th>CO2_emission</th>\n      <th>Emissions within the scope of influence of LAs (kt CO2)</th>\n      <th>Mid-year Population (thousands)</th>\n      <th>Area (km2)</th>\n    </tr>\n  </thead>\n  <tbody>\n    <tr>\n      <th>0</th>\n      <td>England</td>\n      <td>E92000001</td>\n      <td>North East</td>\n      <td>E12000001</td>\n      <td>Hartlepool</td>\n      <td>Hartlepool</td>\n      <td>E06000001</td>\n      <td>2005</td>\n      <td>Commercial</td>\n      <td>Commercial Electricity</td>\n      <td>7.719323e+01</td>\n      <td>77.193230</td>\n      <td>90.457</td>\n      <td>98.3466</td>\n    </tr>\n    <tr>\n      <th>1</th>\n      <td>England</td>\n      <td>E92000001</td>\n      <td>North East</td>\n      <td>E12000001</td>\n      <td>Hartlepool</td>\n      <td>Hartlepool</td>\n      <td>E06000001</td>\n      <td>2005</td>\n      <td>Commercial</td>\n      <td>Commercial Gas</td>\n      <td>1.668924e+01</td>\n      <td>16.689241</td>\n      <td>90.457</td>\n      <td>98.3466</td>\n    </tr>\n    <tr>\n      <th>2</th>\n      <td>England</td>\n      <td>E92000001</td>\n      <td>North East</td>\n      <td>E12000001</td>\n      <td>Hartlepool</td>\n      <td>Hartlepool</td>\n      <td>E06000001</td>\n      <td>2005</td>\n      <td>Commercial</td>\n      <td>Commercial 'Other Fuels'</td>\n      <td>1.981106e-01</td>\n      <td>0.198111</td>\n      <td>90.457</td>\n      <td>98.3466</td>\n    </tr>\n    <tr>\n      <th>3</th>\n      <td>England</td>\n      <td>E92000001</td>\n      <td>North East</td>\n      <td>E12000001</td>\n      <td>Hartlepool</td>\n      <td>Hartlepool</td>\n      <td>E06000001</td>\n      <td>2005</td>\n      <td>Domestic</td>\n      <td>Domestic Electricity</td>\n      <td>8.063985e+01</td>\n      <td>80.639845</td>\n      <td>90.457</td>\n      <td>98.3466</td>\n    </tr>\n    <tr>\n      <th>4</th>\n      <td>England</td>\n      <td>E92000001</td>\n      <td>North East</td>\n      <td>E12000001</td>\n      <td>Hartlepool</td>\n      <td>Hartlepool</td>\n      <td>E06000001</td>\n      <td>2005</td>\n      <td>Domestic</td>\n      <td>Domestic Gas</td>\n      <td>1.313837e+02</td>\n      <td>131.383713</td>\n      <td>90.457</td>\n      <td>98.3466</td>\n    </tr>\n    <tr>\n      <th>...</th>\n      <td>...</td>\n      <td>...</td>\n      <td>...</td>\n      <td>...</td>\n      <td>...</td>\n      <td>...</td>\n      <td>...</td>\n      <td>...</td>\n      <td>...</td>\n      <td>...</td>\n      <td>...</td>\n      <td>...</td>\n      <td>...</td>\n      <td>...</td>\n    </tr>\n    <tr>\n      <th>129383</th>\n      <td>NaN</td>\n      <td>NaN</td>\n      <td>NaN</td>\n      <td>NaN</td>\n      <td>NaN</td>\n      <td>Unallocated consumption</td>\n      <td>NaN</td>\n      <td>2019</td>\n      <td>Industry</td>\n      <td>Industry Gas</td>\n      <td>2.574098e+02</td>\n      <td>257.409829</td>\n      <td>NaN</td>\n      <td>NaN</td>\n    </tr>\n    <tr>\n      <th>129384</th>\n      <td>NaN</td>\n      <td>NaN</td>\n      <td>NaN</td>\n      <td>NaN</td>\n      <td>NaN</td>\n      <td>Unallocated consumption</td>\n      <td>NaN</td>\n      <td>2019</td>\n      <td>LULUCF</td>\n      <td>LULUCF Net Emissions: Forest land</td>\n      <td>-3.270000e-11</td>\n      <td>0.000000</td>\n      <td>NaN</td>\n      <td>NaN</td>\n    </tr>\n    <tr>\n      <th>129385</th>\n      <td>NaN</td>\n      <td>NaN</td>\n      <td>NaN</td>\n      <td>NaN</td>\n      <td>NaN</td>\n      <td>Unallocated consumption</td>\n      <td>NaN</td>\n      <td>2019</td>\n      <td>LULUCF</td>\n      <td>LULUCF Net Emissions: Cropland</td>\n      <td>1.820000e-11</td>\n      <td>0.000000</td>\n      <td>NaN</td>\n      <td>NaN</td>\n    </tr>\n    <tr>\n      <th>129386</th>\n      <td>NaN</td>\n      <td>NaN</td>\n      <td>NaN</td>\n      <td>NaN</td>\n      <td>NaN</td>\n      <td>Unallocated consumption</td>\n      <td>NaN</td>\n      <td>2019</td>\n      <td>LULUCF</td>\n      <td>LULUCF Net Emissions: Grassland</td>\n      <td>8.640000e-12</td>\n      <td>0.000000</td>\n      <td>NaN</td>\n      <td>NaN</td>\n    </tr>\n    <tr>\n      <th>129387</th>\n      <td>NaN</td>\n      <td>NaN</td>\n      <td>NaN</td>\n      <td>NaN</td>\n      <td>NaN</td>\n      <td>Unallocated consumption</td>\n      <td>NaN</td>\n      <td>2019</td>\n      <td>LULUCF</td>\n      <td>LULUCF Net Emissions: Harvested Wood Products</td>\n      <td>-2.222564e+03</td>\n      <td>0.000000</td>\n      <td>NaN</td>\n      <td>NaN</td>\n    </tr>\n  </tbody>\n</table>\n<p>129388 rows × 14 columns</p>\n</div>"
     },
     "execution_count": 56,
     "metadata": {},
     "output_type": "execute_result"
    }
   ],
   "source": [
    "\n"
   ],
   "metadata": {
    "collapsed": false,
    "pycharm": {
     "name": "#%%\n"
    }
   }
  },
  {
   "cell_type": "code",
   "execution_count": 111,
   "outputs": [
    {
     "data": {
      "text/plain": "        Calendar Year  Territorial emissions (kt CO2)\n0                2005                       77.193230\n1                2005                       16.689241\n2                2005                        0.198111\n3                2005                       80.639845\n4                2005                      131.383713\n...               ...                             ...\n106989           2019                        0.857591\n106990           2019                      180.856113\n106991           2019                       89.550258\n106992           2019                        1.992724\n106993           2019                        1.121628\n\n[106994 rows x 2 columns]",
      "text/html": "<div>\n<style scoped>\n    .dataframe tbody tr th:only-of-type {\n        vertical-align: middle;\n    }\n\n    .dataframe tbody tr th {\n        vertical-align: top;\n    }\n\n    .dataframe thead th {\n        text-align: right;\n    }\n</style>\n<table border=\"1\" class=\"dataframe\">\n  <thead>\n    <tr style=\"text-align: right;\">\n      <th></th>\n      <th>Calendar Year</th>\n      <th>Territorial emissions (kt CO2)</th>\n    </tr>\n  </thead>\n  <tbody>\n    <tr>\n      <th>0</th>\n      <td>2005</td>\n      <td>77.193230</td>\n    </tr>\n    <tr>\n      <th>1</th>\n      <td>2005</td>\n      <td>16.689241</td>\n    </tr>\n    <tr>\n      <th>2</th>\n      <td>2005</td>\n      <td>0.198111</td>\n    </tr>\n    <tr>\n      <th>3</th>\n      <td>2005</td>\n      <td>80.639845</td>\n    </tr>\n    <tr>\n      <th>4</th>\n      <td>2005</td>\n      <td>131.383713</td>\n    </tr>\n    <tr>\n      <th>...</th>\n      <td>...</td>\n      <td>...</td>\n    </tr>\n    <tr>\n      <th>106989</th>\n      <td>2019</td>\n      <td>0.857591</td>\n    </tr>\n    <tr>\n      <th>106990</th>\n      <td>2019</td>\n      <td>180.856113</td>\n    </tr>\n    <tr>\n      <th>106991</th>\n      <td>2019</td>\n      <td>89.550258</td>\n    </tr>\n    <tr>\n      <th>106992</th>\n      <td>2019</td>\n      <td>1.992724</td>\n    </tr>\n    <tr>\n      <th>106993</th>\n      <td>2019</td>\n      <td>1.121628</td>\n    </tr>\n  </tbody>\n</table>\n<p>106994 rows × 2 columns</p>\n</div>"
     },
     "execution_count": 111,
     "metadata": {},
     "output_type": "execute_result"
    }
   ],
   "source": [
    "# btc=new_data[new_data['symbol']=='BTC']#Extracting the bitcoin data from the dataframe\n",
    "Eng_land= Eng_land[['Calendar Year', 'Territorial emissions (kt CO2)']]\n",
    "Eng_land\n",
    "#Eng_land.drop\n",
    "# btc.drop(['symbol','name'],axis=1,inplace=True)#Just dropping columns here"
   ],
   "metadata": {
    "collapsed": false,
    "pycharm": {
     "name": "#%%\n"
    }
   }
  },
  {
   "cell_type": "code",
   "execution_count": 106,
   "outputs": [],
   "source": [
    "# Eng_land['Calendar Year'] = pd.to_datetime(Eng_land['Calendar Year'])"
   ],
   "metadata": {
    "collapsed": false,
    "pycharm": {
     "name": "#%%\n"
    }
   }
  },
  {
   "cell_type": "code",
   "execution_count": 112,
   "outputs": [
    {
     "data": {
      "text/plain": "               Territorial emissions (kt CO2)\nCalendar Year                                \n2005                                77.193230\n2005                                16.689241\n2005                                 0.198111\n2005                                80.639845\n2005                               131.383713\n...                                       ...\n2019                                 0.857591\n2019                               180.856113\n2019                                89.550258\n2019                                 1.992724\n2019                                 1.121628\n\n[106994 rows x 1 columns]",
      "text/html": "<div>\n<style scoped>\n    .dataframe tbody tr th:only-of-type {\n        vertical-align: middle;\n    }\n\n    .dataframe tbody tr th {\n        vertical-align: top;\n    }\n\n    .dataframe thead th {\n        text-align: right;\n    }\n</style>\n<table border=\"1\" class=\"dataframe\">\n  <thead>\n    <tr style=\"text-align: right;\">\n      <th></th>\n      <th>Territorial emissions (kt CO2)</th>\n    </tr>\n    <tr>\n      <th>Calendar Year</th>\n      <th></th>\n    </tr>\n  </thead>\n  <tbody>\n    <tr>\n      <th>2005</th>\n      <td>77.193230</td>\n    </tr>\n    <tr>\n      <th>2005</th>\n      <td>16.689241</td>\n    </tr>\n    <tr>\n      <th>2005</th>\n      <td>0.198111</td>\n    </tr>\n    <tr>\n      <th>2005</th>\n      <td>80.639845</td>\n    </tr>\n    <tr>\n      <th>2005</th>\n      <td>131.383713</td>\n    </tr>\n    <tr>\n      <th>...</th>\n      <td>...</td>\n    </tr>\n    <tr>\n      <th>2019</th>\n      <td>0.857591</td>\n    </tr>\n    <tr>\n      <th>2019</th>\n      <td>180.856113</td>\n    </tr>\n    <tr>\n      <th>2019</th>\n      <td>89.550258</td>\n    </tr>\n    <tr>\n      <th>2019</th>\n      <td>1.992724</td>\n    </tr>\n    <tr>\n      <th>2019</th>\n      <td>1.121628</td>\n    </tr>\n  </tbody>\n</table>\n<p>106994 rows × 1 columns</p>\n</div>"
     },
     "execution_count": 112,
     "metadata": {},
     "output_type": "execute_result"
    }
   ],
   "source": [
    " Eng_land = Eng_land.set_index('Calendar Year')\n",
    "Eng_land"
   ],
   "metadata": {
    "collapsed": false,
    "pycharm": {
     "name": "#%%\n"
    }
   }
  },
  {
   "cell_type": "code",
   "execution_count": 86,
   "outputs": [
    {
     "data": {
      "text/plain": "               CO2_emission\nCalendar Year              \n2005              77.193230\n2005              16.689241\n2005               0.198111\n2005              80.639845\n2005             131.383713\n...                     ...\n2019               0.857591\n2019             180.856113\n2019              89.550258\n2019               1.992724\n2019               1.121628\n\n[106994 rows x 1 columns]",
      "text/html": "<div>\n<style scoped>\n    .dataframe tbody tr th:only-of-type {\n        vertical-align: middle;\n    }\n\n    .dataframe tbody tr th {\n        vertical-align: top;\n    }\n\n    .dataframe thead th {\n        text-align: right;\n    }\n</style>\n<table border=\"1\" class=\"dataframe\">\n  <thead>\n    <tr style=\"text-align: right;\">\n      <th></th>\n      <th>CO2_emission</th>\n    </tr>\n    <tr>\n      <th>Calendar Year</th>\n      <th></th>\n    </tr>\n  </thead>\n  <tbody>\n    <tr>\n      <th>2005</th>\n      <td>77.193230</td>\n    </tr>\n    <tr>\n      <th>2005</th>\n      <td>16.689241</td>\n    </tr>\n    <tr>\n      <th>2005</th>\n      <td>0.198111</td>\n    </tr>\n    <tr>\n      <th>2005</th>\n      <td>80.639845</td>\n    </tr>\n    <tr>\n      <th>2005</th>\n      <td>131.383713</td>\n    </tr>\n    <tr>\n      <th>...</th>\n      <td>...</td>\n    </tr>\n    <tr>\n      <th>2019</th>\n      <td>0.857591</td>\n    </tr>\n    <tr>\n      <th>2019</th>\n      <td>180.856113</td>\n    </tr>\n    <tr>\n      <th>2019</th>\n      <td>89.550258</td>\n    </tr>\n    <tr>\n      <th>2019</th>\n      <td>1.992724</td>\n    </tr>\n    <tr>\n      <th>2019</th>\n      <td>1.121628</td>\n    </tr>\n  </tbody>\n</table>\n<p>106994 rows × 1 columns</p>\n</div>"
     },
     "execution_count": 86,
     "metadata": {},
     "output_type": "execute_result"
    }
   ],
   "source": [
    "Eng_land.rename(columns={'Territorial emissions (kt CO2)':'CO2_emission'})"
   ],
   "metadata": {
    "collapsed": false,
    "pycharm": {
     "name": "#%%\n"
    }
   }
  },
  {
   "cell_type": "code",
   "execution_count": 100,
   "outputs": [
    {
     "ename": "KeyError",
     "evalue": "'Calendar Year'",
     "output_type": "error",
     "traceback": [
      "\u001B[1;31m---------------------------------------------------------------------------\u001B[0m",
      "\u001B[1;31mKeyError\u001B[0m                                  Traceback (most recent call last)",
      "File \u001B[1;32m~\\OneDrive\\Desktop\\project\\venv\\lib\\site-packages\\pandas\\core\\indexes\\base.py:3621\u001B[0m, in \u001B[0;36mIndex.get_loc\u001B[1;34m(self, key, method, tolerance)\u001B[0m\n\u001B[0;32m   3620\u001B[0m \u001B[38;5;28;01mtry\u001B[39;00m:\n\u001B[1;32m-> 3621\u001B[0m     \u001B[38;5;28;01mreturn\u001B[39;00m \u001B[38;5;28;43mself\u001B[39;49m\u001B[38;5;241;43m.\u001B[39;49m\u001B[43m_engine\u001B[49m\u001B[38;5;241;43m.\u001B[39;49m\u001B[43mget_loc\u001B[49m\u001B[43m(\u001B[49m\u001B[43mcasted_key\u001B[49m\u001B[43m)\u001B[49m\n\u001B[0;32m   3622\u001B[0m \u001B[38;5;28;01mexcept\u001B[39;00m \u001B[38;5;167;01mKeyError\u001B[39;00m \u001B[38;5;28;01mas\u001B[39;00m err:\n",
      "File \u001B[1;32m~\\OneDrive\\Desktop\\project\\venv\\lib\\site-packages\\pandas\\_libs\\index.pyx:136\u001B[0m, in \u001B[0;36mpandas._libs.index.IndexEngine.get_loc\u001B[1;34m()\u001B[0m\n",
      "File \u001B[1;32m~\\OneDrive\\Desktop\\project\\venv\\lib\\site-packages\\pandas\\_libs\\index.pyx:163\u001B[0m, in \u001B[0;36mpandas._libs.index.IndexEngine.get_loc\u001B[1;34m()\u001B[0m\n",
      "File \u001B[1;32mpandas\\_libs\\hashtable_class_helper.pxi:5198\u001B[0m, in \u001B[0;36mpandas._libs.hashtable.PyObjectHashTable.get_item\u001B[1;34m()\u001B[0m\n",
      "File \u001B[1;32mpandas\\_libs\\hashtable_class_helper.pxi:5206\u001B[0m, in \u001B[0;36mpandas._libs.hashtable.PyObjectHashTable.get_item\u001B[1;34m()\u001B[0m\n",
      "\u001B[1;31mKeyError\u001B[0m: 'Calendar Year'",
      "\nThe above exception was the direct cause of the following exception:\n",
      "\u001B[1;31mKeyError\u001B[0m                                  Traceback (most recent call last)",
      "Input \u001B[1;32mIn [100]\u001B[0m, in \u001B[0;36m<cell line: 1>\u001B[1;34m()\u001B[0m\n\u001B[1;32m----> 1\u001B[0m Eng_land[\u001B[38;5;124m'\u001B[39m\u001B[38;5;124mCalendar Year\u001B[39m\u001B[38;5;124m'\u001B[39m] \u001B[38;5;241m=\u001B[39m pd\u001B[38;5;241m.\u001B[39mto_datetime(\u001B[43mEng_land\u001B[49m\u001B[43m[\u001B[49m\u001B[38;5;124;43m'\u001B[39;49m\u001B[38;5;124;43mCalendar Year\u001B[39;49m\u001B[38;5;124;43m'\u001B[39;49m\u001B[43m]\u001B[49m)\n",
      "File \u001B[1;32m~\\OneDrive\\Desktop\\project\\venv\\lib\\site-packages\\pandas\\core\\frame.py:3505\u001B[0m, in \u001B[0;36mDataFrame.__getitem__\u001B[1;34m(self, key)\u001B[0m\n\u001B[0;32m   3503\u001B[0m \u001B[38;5;28;01mif\u001B[39;00m \u001B[38;5;28mself\u001B[39m\u001B[38;5;241m.\u001B[39mcolumns\u001B[38;5;241m.\u001B[39mnlevels \u001B[38;5;241m>\u001B[39m \u001B[38;5;241m1\u001B[39m:\n\u001B[0;32m   3504\u001B[0m     \u001B[38;5;28;01mreturn\u001B[39;00m \u001B[38;5;28mself\u001B[39m\u001B[38;5;241m.\u001B[39m_getitem_multilevel(key)\n\u001B[1;32m-> 3505\u001B[0m indexer \u001B[38;5;241m=\u001B[39m \u001B[38;5;28;43mself\u001B[39;49m\u001B[38;5;241;43m.\u001B[39;49m\u001B[43mcolumns\u001B[49m\u001B[38;5;241;43m.\u001B[39;49m\u001B[43mget_loc\u001B[49m\u001B[43m(\u001B[49m\u001B[43mkey\u001B[49m\u001B[43m)\u001B[49m\n\u001B[0;32m   3506\u001B[0m \u001B[38;5;28;01mif\u001B[39;00m is_integer(indexer):\n\u001B[0;32m   3507\u001B[0m     indexer \u001B[38;5;241m=\u001B[39m [indexer]\n",
      "File \u001B[1;32m~\\OneDrive\\Desktop\\project\\venv\\lib\\site-packages\\pandas\\core\\indexes\\base.py:3623\u001B[0m, in \u001B[0;36mIndex.get_loc\u001B[1;34m(self, key, method, tolerance)\u001B[0m\n\u001B[0;32m   3621\u001B[0m     \u001B[38;5;28;01mreturn\u001B[39;00m \u001B[38;5;28mself\u001B[39m\u001B[38;5;241m.\u001B[39m_engine\u001B[38;5;241m.\u001B[39mget_loc(casted_key)\n\u001B[0;32m   3622\u001B[0m \u001B[38;5;28;01mexcept\u001B[39;00m \u001B[38;5;167;01mKeyError\u001B[39;00m \u001B[38;5;28;01mas\u001B[39;00m err:\n\u001B[1;32m-> 3623\u001B[0m     \u001B[38;5;28;01mraise\u001B[39;00m \u001B[38;5;167;01mKeyError\u001B[39;00m(key) \u001B[38;5;28;01mfrom\u001B[39;00m \u001B[38;5;21;01merr\u001B[39;00m\n\u001B[0;32m   3624\u001B[0m \u001B[38;5;28;01mexcept\u001B[39;00m \u001B[38;5;167;01mTypeError\u001B[39;00m:\n\u001B[0;32m   3625\u001B[0m     \u001B[38;5;66;03m# If we have a listlike key, _check_indexing_error will raise\u001B[39;00m\n\u001B[0;32m   3626\u001B[0m     \u001B[38;5;66;03m#  InvalidIndexError. Otherwise we fall through and re-raise\u001B[39;00m\n\u001B[0;32m   3627\u001B[0m     \u001B[38;5;66;03m#  the TypeError.\u001B[39;00m\n\u001B[0;32m   3628\u001B[0m     \u001B[38;5;28mself\u001B[39m\u001B[38;5;241m.\u001B[39m_check_indexing_error(key)\n",
      "\u001B[1;31mKeyError\u001B[0m: 'Calendar Year'"
     ]
    }
   ],
   "source": [],
   "metadata": {
    "collapsed": false,
    "pycharm": {
     "name": "#%%\n"
    }
   }
  },
  {
   "cell_type": "code",
   "execution_count": 113,
   "outputs": [
    {
     "ename": "SyntaxError",
     "evalue": "invalid syntax. Perhaps you forgot a comma? (3610253606.py, line 7)",
     "output_type": "error",
     "traceback": [
      "\u001B[1;36m  Input \u001B[1;32mIn [113]\u001B[1;36m\u001B[0m\n\u001B[1;33m    ax1.plot(Eng_land.Territorial emissions (kt CO2))\u001B[0m\n\u001B[1;37m             ^\u001B[0m\n\u001B[1;31mSyntaxError\u001B[0m\u001B[1;31m:\u001B[0m invalid syntax. Perhaps you forgot a comma?\n"
     ]
    }
   ],
   "source": [
    "plt.figure(figsize=(14,7))\n",
    "fig=plt.figure(1)\n",
    "ax1= fig.add_subplot(111)\n",
    "ax1.set_xlabel('Time frame')\n",
    "ax1.set_ylabel('CO2 emissions')\n",
    "ax1.set_title('Close price for BTC')\n",
    "ax1.plot(Eng_land.Territorial emissions (kt CO2))"
   ],
   "metadata": {
    "collapsed": false,
    "pycharm": {
     "name": "#%%\n"
    }
   }
  },
  {
   "cell_type": "markdown",
   "source": [],
   "metadata": {
    "collapsed": false,
    "pycharm": {
     "name": "#%% md\n"
    }
   }
  },
  {
   "cell_type": "code",
   "execution_count": 124,
   "outputs": [
    {
     "data": {
      "text/plain": "<IPython.core.display.Javascript object>",
      "application/javascript": "/* Put everything inside the global mpl namespace */\n/* global mpl */\nwindow.mpl = {};\n\nmpl.get_websocket_type = function () {\n    if (typeof WebSocket !== 'undefined') {\n        return WebSocket;\n    } else if (typeof MozWebSocket !== 'undefined') {\n        return MozWebSocket;\n    } else {\n        alert(\n            'Your browser does not have WebSocket support. ' +\n                'Please try Chrome, Safari or Firefox ≥ 6. ' +\n                'Firefox 4 and 5 are also supported but you ' +\n                'have to enable WebSockets in about:config.'\n        );\n    }\n};\n\nmpl.figure = function (figure_id, websocket, ondownload, parent_element) {\n    this.id = figure_id;\n\n    this.ws = websocket;\n\n    this.supports_binary = this.ws.binaryType !== undefined;\n\n    if (!this.supports_binary) {\n        var warnings = document.getElementById('mpl-warnings');\n        if (warnings) {\n            warnings.style.display = 'block';\n            warnings.textContent =\n                'This browser does not support binary websocket messages. ' +\n                'Performance may be slow.';\n        }\n    }\n\n    this.imageObj = new Image();\n\n    this.context = undefined;\n    this.message = undefined;\n    this.canvas = undefined;\n    this.rubberband_canvas = undefined;\n    this.rubberband_context = undefined;\n    this.format_dropdown = undefined;\n\n    this.image_mode = 'full';\n\n    this.root = document.createElement('div');\n    this.root.setAttribute('style', 'display: inline-block');\n    this._root_extra_style(this.root);\n\n    parent_element.appendChild(this.root);\n\n    this._init_header(this);\n    this._init_canvas(this);\n    this._init_toolbar(this);\n\n    var fig = this;\n\n    this.waiting = false;\n\n    this.ws.onopen = function () {\n        fig.send_message('supports_binary', { value: fig.supports_binary });\n        fig.send_message('send_image_mode', {});\n        if (fig.ratio !== 1) {\n            fig.send_message('set_device_pixel_ratio', {\n                device_pixel_ratio: fig.ratio,\n            });\n        }\n        fig.send_message('refresh', {});\n    };\n\n    this.imageObj.onload = function () {\n        if (fig.image_mode === 'full') {\n            // Full images could contain transparency (where diff images\n            // almost always do), so we need to clear the canvas so that\n            // there is no ghosting.\n            fig.context.clearRect(0, 0, fig.canvas.width, fig.canvas.height);\n        }\n        fig.context.drawImage(fig.imageObj, 0, 0);\n    };\n\n    this.imageObj.onunload = function () {\n        fig.ws.close();\n    };\n\n    this.ws.onmessage = this._make_on_message_function(this);\n\n    this.ondownload = ondownload;\n};\n\nmpl.figure.prototype._init_header = function () {\n    var titlebar = document.createElement('div');\n    titlebar.classList =\n        'ui-dialog-titlebar ui-widget-header ui-corner-all ui-helper-clearfix';\n    var titletext = document.createElement('div');\n    titletext.classList = 'ui-dialog-title';\n    titletext.setAttribute(\n        'style',\n        'width: 100%; text-align: center; padding: 3px;'\n    );\n    titlebar.appendChild(titletext);\n    this.root.appendChild(titlebar);\n    this.header = titletext;\n};\n\nmpl.figure.prototype._canvas_extra_style = function (_canvas_div) {};\n\nmpl.figure.prototype._root_extra_style = function (_canvas_div) {};\n\nmpl.figure.prototype._init_canvas = function () {\n    var fig = this;\n\n    var canvas_div = (this.canvas_div = document.createElement('div'));\n    canvas_div.setAttribute(\n        'style',\n        'border: 1px solid #ddd;' +\n            'box-sizing: content-box;' +\n            'clear: both;' +\n            'min-height: 1px;' +\n            'min-width: 1px;' +\n            'outline: 0;' +\n            'overflow: hidden;' +\n            'position: relative;' +\n            'resize: both;'\n    );\n\n    function on_keyboard_event_closure(name) {\n        return function (event) {\n            return fig.key_event(event, name);\n        };\n    }\n\n    canvas_div.addEventListener(\n        'keydown',\n        on_keyboard_event_closure('key_press')\n    );\n    canvas_div.addEventListener(\n        'keyup',\n        on_keyboard_event_closure('key_release')\n    );\n\n    this._canvas_extra_style(canvas_div);\n    this.root.appendChild(canvas_div);\n\n    var canvas = (this.canvas = document.createElement('canvas'));\n    canvas.classList.add('mpl-canvas');\n    canvas.setAttribute('style', 'box-sizing: content-box;');\n\n    this.context = canvas.getContext('2d');\n\n    var backingStore =\n        this.context.backingStorePixelRatio ||\n        this.context.webkitBackingStorePixelRatio ||\n        this.context.mozBackingStorePixelRatio ||\n        this.context.msBackingStorePixelRatio ||\n        this.context.oBackingStorePixelRatio ||\n        this.context.backingStorePixelRatio ||\n        1;\n\n    this.ratio = (window.devicePixelRatio || 1) / backingStore;\n\n    var rubberband_canvas = (this.rubberband_canvas = document.createElement(\n        'canvas'\n    ));\n    rubberband_canvas.setAttribute(\n        'style',\n        'box-sizing: content-box; position: absolute; left: 0; top: 0; z-index: 1;'\n    );\n\n    // Apply a ponyfill if ResizeObserver is not implemented by browser.\n    if (this.ResizeObserver === undefined) {\n        if (window.ResizeObserver !== undefined) {\n            this.ResizeObserver = window.ResizeObserver;\n        } else {\n            var obs = _JSXTOOLS_RESIZE_OBSERVER({});\n            this.ResizeObserver = obs.ResizeObserver;\n        }\n    }\n\n    this.resizeObserverInstance = new this.ResizeObserver(function (entries) {\n        var nentries = entries.length;\n        for (var i = 0; i < nentries; i++) {\n            var entry = entries[i];\n            var width, height;\n            if (entry.contentBoxSize) {\n                if (entry.contentBoxSize instanceof Array) {\n                    // Chrome 84 implements new version of spec.\n                    width = entry.contentBoxSize[0].inlineSize;\n                    height = entry.contentBoxSize[0].blockSize;\n                } else {\n                    // Firefox implements old version of spec.\n                    width = entry.contentBoxSize.inlineSize;\n                    height = entry.contentBoxSize.blockSize;\n                }\n            } else {\n                // Chrome <84 implements even older version of spec.\n                width = entry.contentRect.width;\n                height = entry.contentRect.height;\n            }\n\n            // Keep the size of the canvas and rubber band canvas in sync with\n            // the canvas container.\n            if (entry.devicePixelContentBoxSize) {\n                // Chrome 84 implements new version of spec.\n                canvas.setAttribute(\n                    'width',\n                    entry.devicePixelContentBoxSize[0].inlineSize\n                );\n                canvas.setAttribute(\n                    'height',\n                    entry.devicePixelContentBoxSize[0].blockSize\n                );\n            } else {\n                canvas.setAttribute('width', width * fig.ratio);\n                canvas.setAttribute('height', height * fig.ratio);\n            }\n            canvas.setAttribute(\n                'style',\n                'width: ' + width + 'px; height: ' + height + 'px;'\n            );\n\n            rubberband_canvas.setAttribute('width', width);\n            rubberband_canvas.setAttribute('height', height);\n\n            // And update the size in Python. We ignore the initial 0/0 size\n            // that occurs as the element is placed into the DOM, which should\n            // otherwise not happen due to the minimum size styling.\n            if (fig.ws.readyState == 1 && width != 0 && height != 0) {\n                fig.request_resize(width, height);\n            }\n        }\n    });\n    this.resizeObserverInstance.observe(canvas_div);\n\n    function on_mouse_event_closure(name) {\n        return function (event) {\n            return fig.mouse_event(event, name);\n        };\n    }\n\n    rubberband_canvas.addEventListener(\n        'mousedown',\n        on_mouse_event_closure('button_press')\n    );\n    rubberband_canvas.addEventListener(\n        'mouseup',\n        on_mouse_event_closure('button_release')\n    );\n    rubberband_canvas.addEventListener(\n        'dblclick',\n        on_mouse_event_closure('dblclick')\n    );\n    // Throttle sequential mouse events to 1 every 20ms.\n    rubberband_canvas.addEventListener(\n        'mousemove',\n        on_mouse_event_closure('motion_notify')\n    );\n\n    rubberband_canvas.addEventListener(\n        'mouseenter',\n        on_mouse_event_closure('figure_enter')\n    );\n    rubberband_canvas.addEventListener(\n        'mouseleave',\n        on_mouse_event_closure('figure_leave')\n    );\n\n    canvas_div.addEventListener('wheel', function (event) {\n        if (event.deltaY < 0) {\n            event.step = 1;\n        } else {\n            event.step = -1;\n        }\n        on_mouse_event_closure('scroll')(event);\n    });\n\n    canvas_div.appendChild(canvas);\n    canvas_div.appendChild(rubberband_canvas);\n\n    this.rubberband_context = rubberband_canvas.getContext('2d');\n    this.rubberband_context.strokeStyle = '#000000';\n\n    this._resize_canvas = function (width, height, forward) {\n        if (forward) {\n            canvas_div.style.width = width + 'px';\n            canvas_div.style.height = height + 'px';\n        }\n    };\n\n    // Disable right mouse context menu.\n    this.rubberband_canvas.addEventListener('contextmenu', function (_e) {\n        event.preventDefault();\n        return false;\n    });\n\n    function set_focus() {\n        canvas.focus();\n        canvas_div.focus();\n    }\n\n    window.setTimeout(set_focus, 100);\n};\n\nmpl.figure.prototype._init_toolbar = function () {\n    var fig = this;\n\n    var toolbar = document.createElement('div');\n    toolbar.classList = 'mpl-toolbar';\n    this.root.appendChild(toolbar);\n\n    function on_click_closure(name) {\n        return function (_event) {\n            return fig.toolbar_button_onclick(name);\n        };\n    }\n\n    function on_mouseover_closure(tooltip) {\n        return function (event) {\n            if (!event.currentTarget.disabled) {\n                return fig.toolbar_button_onmouseover(tooltip);\n            }\n        };\n    }\n\n    fig.buttons = {};\n    var buttonGroup = document.createElement('div');\n    buttonGroup.classList = 'mpl-button-group';\n    for (var toolbar_ind in mpl.toolbar_items) {\n        var name = mpl.toolbar_items[toolbar_ind][0];\n        var tooltip = mpl.toolbar_items[toolbar_ind][1];\n        var image = mpl.toolbar_items[toolbar_ind][2];\n        var method_name = mpl.toolbar_items[toolbar_ind][3];\n\n        if (!name) {\n            /* Instead of a spacer, we start a new button group. */\n            if (buttonGroup.hasChildNodes()) {\n                toolbar.appendChild(buttonGroup);\n            }\n            buttonGroup = document.createElement('div');\n            buttonGroup.classList = 'mpl-button-group';\n            continue;\n        }\n\n        var button = (fig.buttons[name] = document.createElement('button'));\n        button.classList = 'mpl-widget';\n        button.setAttribute('role', 'button');\n        button.setAttribute('aria-disabled', 'false');\n        button.addEventListener('click', on_click_closure(method_name));\n        button.addEventListener('mouseover', on_mouseover_closure(tooltip));\n\n        var icon_img = document.createElement('img');\n        icon_img.src = '_images/' + image + '.png';\n        icon_img.srcset = '_images/' + image + '_large.png 2x';\n        icon_img.alt = tooltip;\n        button.appendChild(icon_img);\n\n        buttonGroup.appendChild(button);\n    }\n\n    if (buttonGroup.hasChildNodes()) {\n        toolbar.appendChild(buttonGroup);\n    }\n\n    var fmt_picker = document.createElement('select');\n    fmt_picker.classList = 'mpl-widget';\n    toolbar.appendChild(fmt_picker);\n    this.format_dropdown = fmt_picker;\n\n    for (var ind in mpl.extensions) {\n        var fmt = mpl.extensions[ind];\n        var option = document.createElement('option');\n        option.selected = fmt === mpl.default_extension;\n        option.innerHTML = fmt;\n        fmt_picker.appendChild(option);\n    }\n\n    var status_bar = document.createElement('span');\n    status_bar.classList = 'mpl-message';\n    toolbar.appendChild(status_bar);\n    this.message = status_bar;\n};\n\nmpl.figure.prototype.request_resize = function (x_pixels, y_pixels) {\n    // Request matplotlib to resize the figure. Matplotlib will then trigger a resize in the client,\n    // which will in turn request a refresh of the image.\n    this.send_message('resize', { width: x_pixels, height: y_pixels });\n};\n\nmpl.figure.prototype.send_message = function (type, properties) {\n    properties['type'] = type;\n    properties['figure_id'] = this.id;\n    this.ws.send(JSON.stringify(properties));\n};\n\nmpl.figure.prototype.send_draw_message = function () {\n    if (!this.waiting) {\n        this.waiting = true;\n        this.ws.send(JSON.stringify({ type: 'draw', figure_id: this.id }));\n    }\n};\n\nmpl.figure.prototype.handle_save = function (fig, _msg) {\n    var format_dropdown = fig.format_dropdown;\n    var format = format_dropdown.options[format_dropdown.selectedIndex].value;\n    fig.ondownload(fig, format);\n};\n\nmpl.figure.prototype.handle_resize = function (fig, msg) {\n    var size = msg['size'];\n    if (size[0] !== fig.canvas.width || size[1] !== fig.canvas.height) {\n        fig._resize_canvas(size[0], size[1], msg['forward']);\n        fig.send_message('refresh', {});\n    }\n};\n\nmpl.figure.prototype.handle_rubberband = function (fig, msg) {\n    var x0 = msg['x0'] / fig.ratio;\n    var y0 = (fig.canvas.height - msg['y0']) / fig.ratio;\n    var x1 = msg['x1'] / fig.ratio;\n    var y1 = (fig.canvas.height - msg['y1']) / fig.ratio;\n    x0 = Math.floor(x0) + 0.5;\n    y0 = Math.floor(y0) + 0.5;\n    x1 = Math.floor(x1) + 0.5;\n    y1 = Math.floor(y1) + 0.5;\n    var min_x = Math.min(x0, x1);\n    var min_y = Math.min(y0, y1);\n    var width = Math.abs(x1 - x0);\n    var height = Math.abs(y1 - y0);\n\n    fig.rubberband_context.clearRect(\n        0,\n        0,\n        fig.canvas.width / fig.ratio,\n        fig.canvas.height / fig.ratio\n    );\n\n    fig.rubberband_context.strokeRect(min_x, min_y, width, height);\n};\n\nmpl.figure.prototype.handle_figure_label = function (fig, msg) {\n    // Updates the figure title.\n    fig.header.textContent = msg['label'];\n};\n\nmpl.figure.prototype.handle_cursor = function (fig, msg) {\n    fig.rubberband_canvas.style.cursor = msg['cursor'];\n};\n\nmpl.figure.prototype.handle_message = function (fig, msg) {\n    fig.message.textContent = msg['message'];\n};\n\nmpl.figure.prototype.handle_draw = function (fig, _msg) {\n    // Request the server to send over a new figure.\n    fig.send_draw_message();\n};\n\nmpl.figure.prototype.handle_image_mode = function (fig, msg) {\n    fig.image_mode = msg['mode'];\n};\n\nmpl.figure.prototype.handle_history_buttons = function (fig, msg) {\n    for (var key in msg) {\n        if (!(key in fig.buttons)) {\n            continue;\n        }\n        fig.buttons[key].disabled = !msg[key];\n        fig.buttons[key].setAttribute('aria-disabled', !msg[key]);\n    }\n};\n\nmpl.figure.prototype.handle_navigate_mode = function (fig, msg) {\n    if (msg['mode'] === 'PAN') {\n        fig.buttons['Pan'].classList.add('active');\n        fig.buttons['Zoom'].classList.remove('active');\n    } else if (msg['mode'] === 'ZOOM') {\n        fig.buttons['Pan'].classList.remove('active');\n        fig.buttons['Zoom'].classList.add('active');\n    } else {\n        fig.buttons['Pan'].classList.remove('active');\n        fig.buttons['Zoom'].classList.remove('active');\n    }\n};\n\nmpl.figure.prototype.updated_canvas_event = function () {\n    // Called whenever the canvas gets updated.\n    this.send_message('ack', {});\n};\n\n// A function to construct a web socket function for onmessage handling.\n// Called in the figure constructor.\nmpl.figure.prototype._make_on_message_function = function (fig) {\n    return function socket_on_message(evt) {\n        if (evt.data instanceof Blob) {\n            var img = evt.data;\n            if (img.type !== 'image/png') {\n                /* FIXME: We get \"Resource interpreted as Image but\n                 * transferred with MIME type text/plain:\" errors on\n                 * Chrome.  But how to set the MIME type?  It doesn't seem\n                 * to be part of the websocket stream */\n                img.type = 'image/png';\n            }\n\n            /* Free the memory for the previous frames */\n            if (fig.imageObj.src) {\n                (window.URL || window.webkitURL).revokeObjectURL(\n                    fig.imageObj.src\n                );\n            }\n\n            fig.imageObj.src = (window.URL || window.webkitURL).createObjectURL(\n                img\n            );\n            fig.updated_canvas_event();\n            fig.waiting = false;\n            return;\n        } else if (\n            typeof evt.data === 'string' &&\n            evt.data.slice(0, 21) === 'data:image/png;base64'\n        ) {\n            fig.imageObj.src = evt.data;\n            fig.updated_canvas_event();\n            fig.waiting = false;\n            return;\n        }\n\n        var msg = JSON.parse(evt.data);\n        var msg_type = msg['type'];\n\n        // Call the  \"handle_{type}\" callback, which takes\n        // the figure and JSON message as its only arguments.\n        try {\n            var callback = fig['handle_' + msg_type];\n        } catch (e) {\n            console.log(\n                \"No handler for the '\" + msg_type + \"' message type: \",\n                msg\n            );\n            return;\n        }\n\n        if (callback) {\n            try {\n                // console.log(\"Handling '\" + msg_type + \"' message: \", msg);\n                callback(fig, msg);\n            } catch (e) {\n                console.log(\n                    \"Exception inside the 'handler_\" + msg_type + \"' callback:\",\n                    e,\n                    e.stack,\n                    msg\n                );\n            }\n        }\n    };\n};\n\n// from https://stackoverflow.com/questions/1114465/getting-mouse-location-in-canvas\nmpl.findpos = function (e) {\n    //this section is from http://www.quirksmode.org/js/events_properties.html\n    var targ;\n    if (!e) {\n        e = window.event;\n    }\n    if (e.target) {\n        targ = e.target;\n    } else if (e.srcElement) {\n        targ = e.srcElement;\n    }\n    if (targ.nodeType === 3) {\n        // defeat Safari bug\n        targ = targ.parentNode;\n    }\n\n    // pageX,Y are the mouse positions relative to the document\n    var boundingRect = targ.getBoundingClientRect();\n    var x = e.pageX - (boundingRect.left + document.body.scrollLeft);\n    var y = e.pageY - (boundingRect.top + document.body.scrollTop);\n\n    return { x: x, y: y };\n};\n\n/*\n * return a copy of an object with only non-object keys\n * we need this to avoid circular references\n * https://stackoverflow.com/a/24161582/3208463\n */\nfunction simpleKeys(original) {\n    return Object.keys(original).reduce(function (obj, key) {\n        if (typeof original[key] !== 'object') {\n            obj[key] = original[key];\n        }\n        return obj;\n    }, {});\n}\n\nmpl.figure.prototype.mouse_event = function (event, name) {\n    var canvas_pos = mpl.findpos(event);\n\n    if (name === 'button_press') {\n        this.canvas.focus();\n        this.canvas_div.focus();\n    }\n\n    var x = canvas_pos.x * this.ratio;\n    var y = canvas_pos.y * this.ratio;\n\n    this.send_message(name, {\n        x: x,\n        y: y,\n        button: event.button,\n        step: event.step,\n        guiEvent: simpleKeys(event),\n    });\n\n    /* This prevents the web browser from automatically changing to\n     * the text insertion cursor when the button is pressed.  We want\n     * to control all of the cursor setting manually through the\n     * 'cursor' event from matplotlib */\n    event.preventDefault();\n    return false;\n};\n\nmpl.figure.prototype._key_event_extra = function (_event, _name) {\n    // Handle any extra behaviour associated with a key event\n};\n\nmpl.figure.prototype.key_event = function (event, name) {\n    // Prevent repeat events\n    if (name === 'key_press') {\n        if (event.key === this._key) {\n            return;\n        } else {\n            this._key = event.key;\n        }\n    }\n    if (name === 'key_release') {\n        this._key = null;\n    }\n\n    var value = '';\n    if (event.ctrlKey && event.key !== 'Control') {\n        value += 'ctrl+';\n    }\n    else if (event.altKey && event.key !== 'Alt') {\n        value += 'alt+';\n    }\n    else if (event.shiftKey && event.key !== 'Shift') {\n        value += 'shift+';\n    }\n\n    value += 'k' + event.key;\n\n    this._key_event_extra(event, name);\n\n    this.send_message(name, { key: value, guiEvent: simpleKeys(event) });\n    return false;\n};\n\nmpl.figure.prototype.toolbar_button_onclick = function (name) {\n    if (name === 'download') {\n        this.handle_save(this, null);\n    } else {\n        this.send_message('toolbar_button', { name: name });\n    }\n};\n\nmpl.figure.prototype.toolbar_button_onmouseover = function (tooltip) {\n    this.message.textContent = tooltip;\n};\n\n///////////////// REMAINING CONTENT GENERATED BY embed_js.py /////////////////\n// prettier-ignore\nvar _JSXTOOLS_RESIZE_OBSERVER=function(A){var t,i=new WeakMap,n=new WeakMap,a=new WeakMap,r=new WeakMap,o=new Set;function s(e){if(!(this instanceof s))throw new TypeError(\"Constructor requires 'new' operator\");i.set(this,e)}function h(){throw new TypeError(\"Function is not a constructor\")}function c(e,t,i,n){e=0 in arguments?Number(arguments[0]):0,t=1 in arguments?Number(arguments[1]):0,i=2 in arguments?Number(arguments[2]):0,n=3 in arguments?Number(arguments[3]):0,this.right=(this.x=this.left=e)+(this.width=i),this.bottom=(this.y=this.top=t)+(this.height=n),Object.freeze(this)}function d(){t=requestAnimationFrame(d);var s=new WeakMap,p=new Set;o.forEach((function(t){r.get(t).forEach((function(i){var r=t instanceof window.SVGElement,o=a.get(t),d=r?0:parseFloat(o.paddingTop),f=r?0:parseFloat(o.paddingRight),l=r?0:parseFloat(o.paddingBottom),u=r?0:parseFloat(o.paddingLeft),g=r?0:parseFloat(o.borderTopWidth),m=r?0:parseFloat(o.borderRightWidth),w=r?0:parseFloat(o.borderBottomWidth),b=u+f,F=d+l,v=(r?0:parseFloat(o.borderLeftWidth))+m,W=g+w,y=r?0:t.offsetHeight-W-t.clientHeight,E=r?0:t.offsetWidth-v-t.clientWidth,R=b+v,z=F+W,M=r?t.width:parseFloat(o.width)-R-E,O=r?t.height:parseFloat(o.height)-z-y;if(n.has(t)){var k=n.get(t);if(k[0]===M&&k[1]===O)return}n.set(t,[M,O]);var S=Object.create(h.prototype);S.target=t,S.contentRect=new c(u,d,M,O),s.has(i)||(s.set(i,[]),p.add(i)),s.get(i).push(S)}))})),p.forEach((function(e){i.get(e).call(e,s.get(e),e)}))}return s.prototype.observe=function(i){if(i instanceof window.Element){r.has(i)||(r.set(i,new Set),o.add(i),a.set(i,window.getComputedStyle(i)));var n=r.get(i);n.has(this)||n.add(this),cancelAnimationFrame(t),t=requestAnimationFrame(d)}},s.prototype.unobserve=function(i){if(i instanceof window.Element&&r.has(i)){var n=r.get(i);n.has(this)&&(n.delete(this),n.size||(r.delete(i),o.delete(i))),n.size||r.delete(i),o.size||cancelAnimationFrame(t)}},A.DOMRectReadOnly=c,A.ResizeObserver=s,A.ResizeObserverEntry=h,A}; // eslint-disable-line\nmpl.toolbar_items = [[\"Home\", \"Reset original view\", \"fa fa-home icon-home\", \"home\"], [\"Back\", \"Back to previous view\", \"fa fa-arrow-left icon-arrow-left\", \"back\"], [\"Forward\", \"Forward to next view\", \"fa fa-arrow-right icon-arrow-right\", \"forward\"], [\"\", \"\", \"\", \"\"], [\"Pan\", \"Left button pans, Right button zooms\\nx/y fixes axis, CTRL fixes aspect\", \"fa fa-arrows icon-move\", \"pan\"], [\"Zoom\", \"Zoom to rectangle\\nx/y fixes axis\", \"fa fa-square-o icon-check-empty\", \"zoom\"], [\"\", \"\", \"\", \"\"], [\"Download\", \"Download plot\", \"fa fa-floppy-o icon-save\", \"download\"]];\n\nmpl.extensions = [\"eps\", \"jpeg\", \"pgf\", \"pdf\", \"png\", \"ps\", \"raw\", \"svg\", \"tif\"];\n\nmpl.default_extension = \"png\";/* global mpl */\n\nvar comm_websocket_adapter = function (comm) {\n    // Create a \"websocket\"-like object which calls the given IPython comm\n    // object with the appropriate methods. Currently this is a non binary\n    // socket, so there is still some room for performance tuning.\n    var ws = {};\n\n    ws.binaryType = comm.kernel.ws.binaryType;\n    ws.readyState = comm.kernel.ws.readyState;\n    function updateReadyState(_event) {\n        if (comm.kernel.ws) {\n            ws.readyState = comm.kernel.ws.readyState;\n        } else {\n            ws.readyState = 3; // Closed state.\n        }\n    }\n    comm.kernel.ws.addEventListener('open', updateReadyState);\n    comm.kernel.ws.addEventListener('close', updateReadyState);\n    comm.kernel.ws.addEventListener('error', updateReadyState);\n\n    ws.close = function () {\n        comm.close();\n    };\n    ws.send = function (m) {\n        //console.log('sending', m);\n        comm.send(m);\n    };\n    // Register the callback with on_msg.\n    comm.on_msg(function (msg) {\n        //console.log('receiving', msg['content']['data'], msg);\n        var data = msg['content']['data'];\n        if (data['blob'] !== undefined) {\n            data = {\n                data: new Blob(msg['buffers'], { type: data['blob'] }),\n            };\n        }\n        // Pass the mpl event to the overridden (by mpl) onmessage function.\n        ws.onmessage(data);\n    });\n    return ws;\n};\n\nmpl.mpl_figure_comm = function (comm, msg) {\n    // This is the function which gets called when the mpl process\n    // starts-up an IPython Comm through the \"matplotlib\" channel.\n\n    var id = msg.content.data.id;\n    // Get hold of the div created by the display call when the Comm\n    // socket was opened in Python.\n    var element = document.getElementById(id);\n    var ws_proxy = comm_websocket_adapter(comm);\n\n    function ondownload(figure, _format) {\n        window.open(figure.canvas.toDataURL());\n    }\n\n    var fig = new mpl.figure(id, ws_proxy, ondownload, element);\n\n    // Call onopen now - mpl needs it, as it is assuming we've passed it a real\n    // web socket which is closed, not our websocket->open comm proxy.\n    ws_proxy.onopen();\n\n    fig.parent_element = element;\n    fig.cell_info = mpl.find_output_cell(\"<div id='\" + id + \"'></div>\");\n    if (!fig.cell_info) {\n        console.error('Failed to find cell for figure', id, fig);\n        return;\n    }\n    fig.cell_info[0].output_area.element.on(\n        'cleared',\n        { fig: fig },\n        fig._remove_fig_handler\n    );\n};\n\nmpl.figure.prototype.handle_close = function (fig, msg) {\n    var width = fig.canvas.width / fig.ratio;\n    fig.cell_info[0].output_area.element.off(\n        'cleared',\n        fig._remove_fig_handler\n    );\n    fig.resizeObserverInstance.unobserve(fig.canvas_div);\n\n    // Update the output cell to use the data from the current canvas.\n    fig.push_to_output();\n    var dataURL = fig.canvas.toDataURL();\n    // Re-enable the keyboard manager in IPython - without this line, in FF,\n    // the notebook keyboard shortcuts fail.\n    IPython.keyboard_manager.enable();\n    fig.parent_element.innerHTML =\n        '<img src=\"' + dataURL + '\" width=\"' + width + '\">';\n    fig.close_ws(fig, msg);\n};\n\nmpl.figure.prototype.close_ws = function (fig, msg) {\n    fig.send_message('closing', msg);\n    // fig.ws.close()\n};\n\nmpl.figure.prototype.push_to_output = function (_remove_interactive) {\n    // Turn the data on the canvas into data in the output cell.\n    var width = this.canvas.width / this.ratio;\n    var dataURL = this.canvas.toDataURL();\n    this.cell_info[1]['text/html'] =\n        '<img src=\"' + dataURL + '\" width=\"' + width + '\">';\n};\n\nmpl.figure.prototype.updated_canvas_event = function () {\n    // Tell IPython that the notebook contents must change.\n    IPython.notebook.set_dirty(true);\n    this.send_message('ack', {});\n    var fig = this;\n    // Wait a second, then push the new image to the DOM so\n    // that it is saved nicely (might be nice to debounce this).\n    setTimeout(function () {\n        fig.push_to_output();\n    }, 1000);\n};\n\nmpl.figure.prototype._init_toolbar = function () {\n    var fig = this;\n\n    var toolbar = document.createElement('div');\n    toolbar.classList = 'btn-toolbar';\n    this.root.appendChild(toolbar);\n\n    function on_click_closure(name) {\n        return function (_event) {\n            return fig.toolbar_button_onclick(name);\n        };\n    }\n\n    function on_mouseover_closure(tooltip) {\n        return function (event) {\n            if (!event.currentTarget.disabled) {\n                return fig.toolbar_button_onmouseover(tooltip);\n            }\n        };\n    }\n\n    fig.buttons = {};\n    var buttonGroup = document.createElement('div');\n    buttonGroup.classList = 'btn-group';\n    var button;\n    for (var toolbar_ind in mpl.toolbar_items) {\n        var name = mpl.toolbar_items[toolbar_ind][0];\n        var tooltip = mpl.toolbar_items[toolbar_ind][1];\n        var image = mpl.toolbar_items[toolbar_ind][2];\n        var method_name = mpl.toolbar_items[toolbar_ind][3];\n\n        if (!name) {\n            /* Instead of a spacer, we start a new button group. */\n            if (buttonGroup.hasChildNodes()) {\n                toolbar.appendChild(buttonGroup);\n            }\n            buttonGroup = document.createElement('div');\n            buttonGroup.classList = 'btn-group';\n            continue;\n        }\n\n        button = fig.buttons[name] = document.createElement('button');\n        button.classList = 'btn btn-default';\n        button.href = '#';\n        button.title = name;\n        button.innerHTML = '<i class=\"fa ' + image + ' fa-lg\"></i>';\n        button.addEventListener('click', on_click_closure(method_name));\n        button.addEventListener('mouseover', on_mouseover_closure(tooltip));\n        buttonGroup.appendChild(button);\n    }\n\n    if (buttonGroup.hasChildNodes()) {\n        toolbar.appendChild(buttonGroup);\n    }\n\n    // Add the status bar.\n    var status_bar = document.createElement('span');\n    status_bar.classList = 'mpl-message pull-right';\n    toolbar.appendChild(status_bar);\n    this.message = status_bar;\n\n    // Add the close button to the window.\n    var buttongrp = document.createElement('div');\n    buttongrp.classList = 'btn-group inline pull-right';\n    button = document.createElement('button');\n    button.classList = 'btn btn-mini btn-primary';\n    button.href = '#';\n    button.title = 'Stop Interaction';\n    button.innerHTML = '<i class=\"fa fa-power-off icon-remove icon-large\"></i>';\n    button.addEventListener('click', function (_evt) {\n        fig.handle_close(fig, {});\n    });\n    button.addEventListener(\n        'mouseover',\n        on_mouseover_closure('Stop Interaction')\n    );\n    buttongrp.appendChild(button);\n    var titlebar = this.root.querySelector('.ui-dialog-titlebar');\n    titlebar.insertBefore(buttongrp, titlebar.firstChild);\n};\n\nmpl.figure.prototype._remove_fig_handler = function (event) {\n    var fig = event.data.fig;\n    if (event.target !== this) {\n        // Ignore bubbled events from children.\n        return;\n    }\n    fig.close_ws(fig, {});\n};\n\nmpl.figure.prototype._root_extra_style = function (el) {\n    el.style.boxSizing = 'content-box'; // override notebook setting of border-box.\n};\n\nmpl.figure.prototype._canvas_extra_style = function (el) {\n    // this is important to make the div 'focusable\n    el.setAttribute('tabindex', 0);\n    // reach out to IPython and tell the keyboard manager to turn it's self\n    // off when our div gets focus\n\n    // location in version 3\n    if (IPython.notebook.keyboard_manager) {\n        IPython.notebook.keyboard_manager.register_events(el);\n    } else {\n        // location in version 2\n        IPython.keyboard_manager.register_events(el);\n    }\n};\n\nmpl.figure.prototype._key_event_extra = function (event, _name) {\n    // Check for shift+enter\n    if (event.shiftKey && event.which === 13) {\n        this.canvas_div.blur();\n        // select the cell after this one\n        var index = IPython.notebook.find_cell_index(this.cell_info[0]);\n        IPython.notebook.select(index + 1);\n    }\n};\n\nmpl.figure.prototype.handle_save = function (fig, _msg) {\n    fig.ondownload(fig, null);\n};\n\nmpl.find_output_cell = function (html_output) {\n    // Return the cell and output element which can be found *uniquely* in the notebook.\n    // Note - this is a bit hacky, but it is done because the \"notebook_saving.Notebook\"\n    // IPython event is triggered only after the cells have been serialised, which for\n    // our purposes (turning an active figure into a static one), is too late.\n    var cells = IPython.notebook.get_cells();\n    var ncells = cells.length;\n    for (var i = 0; i < ncells; i++) {\n        var cell = cells[i];\n        if (cell.cell_type === 'code') {\n            for (var j = 0; j < cell.output_area.outputs.length; j++) {\n                var data = cell.output_area.outputs[j];\n                if (data.data) {\n                    // IPython >= 3 moved mimebundle to data attribute of output\n                    data = data.data;\n                }\n                if (data['text/html'] === html_output) {\n                    return [cell, data, j];\n                }\n            }\n        }\n    }\n};\n\n// Register the function which deals with the matplotlib target/channel.\n// The kernel may be null if the page has been refreshed.\nif (IPython.notebook.kernel !== null) {\n    IPython.notebook.kernel.comm_manager.register_target(\n        'matplotlib',\n        mpl.mpl_figure_comm\n    );\n}\n"
     },
     "metadata": {},
     "output_type": "display_data"
    },
    {
     "data": {
      "text/plain": "<IPython.core.display.HTML object>",
      "text/html": "<div id='40a4cd2b-3681-4950-a51f-40edb4be69ef'></div>"
     },
     "metadata": {},
     "output_type": "display_data"
    },
    {
     "ename": "TypeError",
     "evalue": "unhashable type: 'numpy.ndarray'",
     "output_type": "error",
     "traceback": [
      "\u001B[1;31m---------------------------------------------------------------------------\u001B[0m",
      "\u001B[1;31mTypeError\u001B[0m                                 Traceback (most recent call last)",
      "Input \u001B[1;32mIn [124]\u001B[0m, in \u001B[0;36m<cell line: 4>\u001B[1;34m()\u001B[0m\n\u001B[0;32m      1\u001B[0m \u001B[38;5;28;01mimport\u001B[39;00m \u001B[38;5;21;01mmatplotlib\u001B[39;00m\n\u001B[0;32m      3\u001B[0m get_ipython()\u001B[38;5;241m.\u001B[39mrun_line_magic(\u001B[38;5;124m'\u001B[39m\u001B[38;5;124mmatplotlib\u001B[39m\u001B[38;5;124m'\u001B[39m, \u001B[38;5;124m'\u001B[39m\u001B[38;5;124mnotebook\u001B[39m\u001B[38;5;124m'\u001B[39m)\n\u001B[1;32m----> 4\u001B[0m \u001B[43mplt\u001B[49m\u001B[38;5;241;43m.\u001B[39;49m\u001B[43mplot\u001B[49m\u001B[43m \u001B[49m\u001B[43m(\u001B[49m\u001B[43mEng_land\u001B[49m\u001B[43m,\u001B[49m\u001B[43m \u001B[49m\u001B[43mlabel\u001B[49m\u001B[38;5;241;43m=\u001B[39;49m\u001B[43m \u001B[49m\u001B[43mEngland\u001B[49m\u001B[43m)\u001B[49m\n\u001B[0;32m      5\u001B[0m plt\u001B[38;5;241m.\u001B[39mplot(Northern_Ireland, label\u001B[38;5;241m=\u001B[39m Northern)\n\u001B[0;32m      6\u001B[0m plt\u001B[38;5;241m.\u001B[39mxlabel(\u001B[38;5;124m'\u001B[39m\u001B[38;5;124mDate\u001B[39m\u001B[38;5;124m'\u001B[39m)\n",
      "File \u001B[1;32m~\\OneDrive\\Desktop\\project\\venv\\lib\\site-packages\\matplotlib\\pyplot.py:2769\u001B[0m, in \u001B[0;36mplot\u001B[1;34m(scalex, scaley, data, *args, **kwargs)\u001B[0m\n\u001B[0;32m   2767\u001B[0m \u001B[38;5;129m@_copy_docstring_and_deprecators\u001B[39m(Axes\u001B[38;5;241m.\u001B[39mplot)\n\u001B[0;32m   2768\u001B[0m \u001B[38;5;28;01mdef\u001B[39;00m \u001B[38;5;21mplot\u001B[39m(\u001B[38;5;241m*\u001B[39margs, scalex\u001B[38;5;241m=\u001B[39m\u001B[38;5;28;01mTrue\u001B[39;00m, scaley\u001B[38;5;241m=\u001B[39m\u001B[38;5;28;01mTrue\u001B[39;00m, data\u001B[38;5;241m=\u001B[39m\u001B[38;5;28;01mNone\u001B[39;00m, \u001B[38;5;241m*\u001B[39m\u001B[38;5;241m*\u001B[39mkwargs):\n\u001B[1;32m-> 2769\u001B[0m     \u001B[38;5;28;01mreturn\u001B[39;00m gca()\u001B[38;5;241m.\u001B[39mplot(\n\u001B[0;32m   2770\u001B[0m         \u001B[38;5;241m*\u001B[39margs, scalex\u001B[38;5;241m=\u001B[39mscalex, scaley\u001B[38;5;241m=\u001B[39mscaley,\n\u001B[0;32m   2771\u001B[0m         \u001B[38;5;241m*\u001B[39m\u001B[38;5;241m*\u001B[39m({\u001B[38;5;124m\"\u001B[39m\u001B[38;5;124mdata\u001B[39m\u001B[38;5;124m\"\u001B[39m: data} \u001B[38;5;28;01mif\u001B[39;00m data \u001B[38;5;129;01mis\u001B[39;00m \u001B[38;5;129;01mnot\u001B[39;00m \u001B[38;5;28;01mNone\u001B[39;00m \u001B[38;5;28;01melse\u001B[39;00m {}), \u001B[38;5;241m*\u001B[39m\u001B[38;5;241m*\u001B[39mkwargs)\n",
      "File \u001B[1;32m~\\OneDrive\\Desktop\\project\\venv\\lib\\site-packages\\matplotlib\\axes\\_axes.py:1632\u001B[0m, in \u001B[0;36mAxes.plot\u001B[1;34m(self, scalex, scaley, data, *args, **kwargs)\u001B[0m\n\u001B[0;32m   1390\u001B[0m \u001B[38;5;124;03m\"\"\"\u001B[39;00m\n\u001B[0;32m   1391\u001B[0m \u001B[38;5;124;03mPlot y versus x as lines and/or markers.\u001B[39;00m\n\u001B[0;32m   1392\u001B[0m \n\u001B[1;32m   (...)\u001B[0m\n\u001B[0;32m   1629\u001B[0m \u001B[38;5;124;03m(``'green'``) or hex strings (``'#008000'``).\u001B[39;00m\n\u001B[0;32m   1630\u001B[0m \u001B[38;5;124;03m\"\"\"\u001B[39;00m\n\u001B[0;32m   1631\u001B[0m kwargs \u001B[38;5;241m=\u001B[39m cbook\u001B[38;5;241m.\u001B[39mnormalize_kwargs(kwargs, mlines\u001B[38;5;241m.\u001B[39mLine2D)\n\u001B[1;32m-> 1632\u001B[0m lines \u001B[38;5;241m=\u001B[39m [\u001B[38;5;241m*\u001B[39m\u001B[38;5;28mself\u001B[39m\u001B[38;5;241m.\u001B[39m_get_lines(\u001B[38;5;241m*\u001B[39margs, data\u001B[38;5;241m=\u001B[39mdata, \u001B[38;5;241m*\u001B[39m\u001B[38;5;241m*\u001B[39mkwargs)]\n\u001B[0;32m   1633\u001B[0m \u001B[38;5;28;01mfor\u001B[39;00m line \u001B[38;5;129;01min\u001B[39;00m lines:\n\u001B[0;32m   1634\u001B[0m     \u001B[38;5;28mself\u001B[39m\u001B[38;5;241m.\u001B[39madd_line(line)\n",
      "File \u001B[1;32m~\\OneDrive\\Desktop\\project\\venv\\lib\\site-packages\\matplotlib\\axes\\_base.py:312\u001B[0m, in \u001B[0;36m_process_plot_var_args.__call__\u001B[1;34m(self, data, *args, **kwargs)\u001B[0m\n\u001B[0;32m    310\u001B[0m     this \u001B[38;5;241m+\u001B[39m\u001B[38;5;241m=\u001B[39m args[\u001B[38;5;241m0\u001B[39m],\n\u001B[0;32m    311\u001B[0m     args \u001B[38;5;241m=\u001B[39m args[\u001B[38;5;241m1\u001B[39m:]\n\u001B[1;32m--> 312\u001B[0m \u001B[38;5;28;01myield from\u001B[39;00m \u001B[38;5;28;43mself\u001B[39;49m\u001B[38;5;241;43m.\u001B[39;49m\u001B[43m_plot_args\u001B[49m\u001B[43m(\u001B[49m\u001B[43mthis\u001B[49m\u001B[43m,\u001B[49m\u001B[43m \u001B[49m\u001B[43mkwargs\u001B[49m\u001B[43m)\u001B[49m\n",
      "File \u001B[1;32m~\\OneDrive\\Desktop\\project\\venv\\lib\\site-packages\\matplotlib\\axes\\_base.py:495\u001B[0m, in \u001B[0;36m_process_plot_var_args._plot_args\u001B[1;34m(self, tup, kwargs, return_kwargs)\u001B[0m\n\u001B[0;32m    493\u001B[0m     \u001B[38;5;28mself\u001B[39m\u001B[38;5;241m.\u001B[39maxes\u001B[38;5;241m.\u001B[39mxaxis\u001B[38;5;241m.\u001B[39mupdate_units(x)\n\u001B[0;32m    494\u001B[0m \u001B[38;5;28;01mif\u001B[39;00m \u001B[38;5;28mself\u001B[39m\u001B[38;5;241m.\u001B[39maxes\u001B[38;5;241m.\u001B[39myaxis \u001B[38;5;129;01mis\u001B[39;00m \u001B[38;5;129;01mnot\u001B[39;00m \u001B[38;5;28;01mNone\u001B[39;00m:\n\u001B[1;32m--> 495\u001B[0m     \u001B[38;5;28;43mself\u001B[39;49m\u001B[38;5;241;43m.\u001B[39;49m\u001B[43maxes\u001B[49m\u001B[38;5;241;43m.\u001B[39;49m\u001B[43myaxis\u001B[49m\u001B[38;5;241;43m.\u001B[39;49m\u001B[43mupdate_units\u001B[49m\u001B[43m(\u001B[49m\u001B[43my\u001B[49m\u001B[43m)\u001B[49m\n\u001B[0;32m    497\u001B[0m \u001B[38;5;28;01mif\u001B[39;00m x\u001B[38;5;241m.\u001B[39mshape[\u001B[38;5;241m0\u001B[39m] \u001B[38;5;241m!=\u001B[39m y\u001B[38;5;241m.\u001B[39mshape[\u001B[38;5;241m0\u001B[39m]:\n\u001B[0;32m    498\u001B[0m     \u001B[38;5;28;01mraise\u001B[39;00m \u001B[38;5;167;01mValueError\u001B[39;00m(\u001B[38;5;124mf\u001B[39m\u001B[38;5;124m\"\u001B[39m\u001B[38;5;124mx and y must have same first dimension, but \u001B[39m\u001B[38;5;124m\"\u001B[39m\n\u001B[0;32m    499\u001B[0m                      \u001B[38;5;124mf\u001B[39m\u001B[38;5;124m\"\u001B[39m\u001B[38;5;124mhave shapes \u001B[39m\u001B[38;5;132;01m{\u001B[39;00mx\u001B[38;5;241m.\u001B[39mshape\u001B[38;5;132;01m}\u001B[39;00m\u001B[38;5;124m and \u001B[39m\u001B[38;5;132;01m{\u001B[39;00my\u001B[38;5;241m.\u001B[39mshape\u001B[38;5;132;01m}\u001B[39;00m\u001B[38;5;124m\"\u001B[39m)\n",
      "File \u001B[1;32m~\\OneDrive\\Desktop\\project\\venv\\lib\\site-packages\\matplotlib\\axis.py:1449\u001B[0m, in \u001B[0;36mAxis.update_units\u001B[1;34m(self, data)\u001B[0m\n\u001B[0;32m   1447\u001B[0m neednew \u001B[38;5;241m=\u001B[39m \u001B[38;5;28mself\u001B[39m\u001B[38;5;241m.\u001B[39mconverter \u001B[38;5;241m!=\u001B[39m converter\n\u001B[0;32m   1448\u001B[0m \u001B[38;5;28mself\u001B[39m\u001B[38;5;241m.\u001B[39mconverter \u001B[38;5;241m=\u001B[39m converter\n\u001B[1;32m-> 1449\u001B[0m default \u001B[38;5;241m=\u001B[39m \u001B[38;5;28;43mself\u001B[39;49m\u001B[38;5;241;43m.\u001B[39;49m\u001B[43mconverter\u001B[49m\u001B[38;5;241;43m.\u001B[39;49m\u001B[43mdefault_units\u001B[49m\u001B[43m(\u001B[49m\u001B[43mdata\u001B[49m\u001B[43m,\u001B[49m\u001B[43m \u001B[49m\u001B[38;5;28;43mself\u001B[39;49m\u001B[43m)\u001B[49m\n\u001B[0;32m   1450\u001B[0m \u001B[38;5;28;01mif\u001B[39;00m default \u001B[38;5;129;01mis\u001B[39;00m \u001B[38;5;129;01mnot\u001B[39;00m \u001B[38;5;28;01mNone\u001B[39;00m \u001B[38;5;129;01mand\u001B[39;00m \u001B[38;5;28mself\u001B[39m\u001B[38;5;241m.\u001B[39munits \u001B[38;5;129;01mis\u001B[39;00m \u001B[38;5;28;01mNone\u001B[39;00m:\n\u001B[0;32m   1451\u001B[0m     \u001B[38;5;28mself\u001B[39m\u001B[38;5;241m.\u001B[39mset_units(default)\n",
      "File \u001B[1;32m~\\OneDrive\\Desktop\\project\\venv\\lib\\site-packages\\matplotlib\\category.py:116\u001B[0m, in \u001B[0;36mStrCategoryConverter.default_units\u001B[1;34m(data, axis)\u001B[0m\n\u001B[0;32m    114\u001B[0m \u001B[38;5;66;03m# the conversion call stack is default_units -> axis_info -> convert\u001B[39;00m\n\u001B[0;32m    115\u001B[0m \u001B[38;5;28;01mif\u001B[39;00m axis\u001B[38;5;241m.\u001B[39munits \u001B[38;5;129;01mis\u001B[39;00m \u001B[38;5;28;01mNone\u001B[39;00m:\n\u001B[1;32m--> 116\u001B[0m     axis\u001B[38;5;241m.\u001B[39mset_units(\u001B[43mUnitData\u001B[49m\u001B[43m(\u001B[49m\u001B[43mdata\u001B[49m\u001B[43m)\u001B[49m)\n\u001B[0;32m    117\u001B[0m \u001B[38;5;28;01melse\u001B[39;00m:\n\u001B[0;32m    118\u001B[0m     axis\u001B[38;5;241m.\u001B[39munits\u001B[38;5;241m.\u001B[39mupdate(data)\n",
      "File \u001B[1;32m~\\OneDrive\\Desktop\\project\\venv\\lib\\site-packages\\matplotlib\\category.py:192\u001B[0m, in \u001B[0;36mUnitData.__init__\u001B[1;34m(self, data)\u001B[0m\n\u001B[0;32m    190\u001B[0m \u001B[38;5;28mself\u001B[39m\u001B[38;5;241m.\u001B[39m_counter \u001B[38;5;241m=\u001B[39m itertools\u001B[38;5;241m.\u001B[39mcount()\n\u001B[0;32m    191\u001B[0m \u001B[38;5;28;01mif\u001B[39;00m data \u001B[38;5;129;01mis\u001B[39;00m \u001B[38;5;129;01mnot\u001B[39;00m \u001B[38;5;28;01mNone\u001B[39;00m:\n\u001B[1;32m--> 192\u001B[0m     \u001B[38;5;28;43mself\u001B[39;49m\u001B[38;5;241;43m.\u001B[39;49m\u001B[43mupdate\u001B[49m\u001B[43m(\u001B[49m\u001B[43mdata\u001B[49m\u001B[43m)\u001B[49m\n",
      "File \u001B[1;32m~\\OneDrive\\Desktop\\project\\venv\\lib\\site-packages\\matplotlib\\category.py:225\u001B[0m, in \u001B[0;36mUnitData.update\u001B[1;34m(self, data)\u001B[0m\n\u001B[0;32m    223\u001B[0m \u001B[38;5;66;03m# check if convertible to number:\u001B[39;00m\n\u001B[0;32m    224\u001B[0m convertible \u001B[38;5;241m=\u001B[39m \u001B[38;5;28;01mTrue\u001B[39;00m\n\u001B[1;32m--> 225\u001B[0m \u001B[38;5;28;01mfor\u001B[39;00m val \u001B[38;5;129;01min\u001B[39;00m \u001B[43mOrderedDict\u001B[49m\u001B[38;5;241;43m.\u001B[39;49m\u001B[43mfromkeys\u001B[49m\u001B[43m(\u001B[49m\u001B[43mdata\u001B[49m\u001B[43m)\u001B[49m:\n\u001B[0;32m    226\u001B[0m     \u001B[38;5;66;03m# OrderedDict just iterates over unique values in data.\u001B[39;00m\n\u001B[0;32m    227\u001B[0m     _api\u001B[38;5;241m.\u001B[39mcheck_isinstance((\u001B[38;5;28mstr\u001B[39m, \u001B[38;5;28mbytes\u001B[39m), value\u001B[38;5;241m=\u001B[39mval)\n\u001B[0;32m    228\u001B[0m     \u001B[38;5;28;01mif\u001B[39;00m convertible:\n\u001B[0;32m    229\u001B[0m         \u001B[38;5;66;03m# this will only be called so long as convertible is True.\u001B[39;00m\n",
      "\u001B[1;31mTypeError\u001B[0m: unhashable type: 'numpy.ndarray'"
     ]
    }
   ],
   "source": [
    "import matplotlib\n",
    "\n",
    "%matplotlib notebook\n",
    "plt.plot (Eng_land, label= England)\n",
    "plt.plot(Northern_Ireland, label= Northern)\n",
    "plt.xlabel('Date')\n",
    "plt.grid()\n",
    "plt.legend"
   ],
   "metadata": {
    "collapsed": false,
    "pycharm": {
     "name": "#%%\n"
    }
   }
  },
  {
   "cell_type": "code",
   "execution_count": null,
   "outputs": [],
   "source": [],
   "metadata": {
    "collapsed": false,
    "pycharm": {
     "name": "#%%\n"
    }
   }
  }
 ],
 "metadata": {
  "kernelspec": {
   "display_name": "Python 3",
   "language": "python",
   "name": "python3"
  },
  "language_info": {
   "codemirror_mode": {
    "name": "ipython",
    "version": 2
   },
   "file_extension": ".py",
   "mimetype": "text/x-python",
   "name": "python",
   "nbconvert_exporter": "python",
   "pygments_lexer": "ipython2",
   "version": "2.7.6"
  }
 },
 "nbformat": 4,
 "nbformat_minor": 0
}